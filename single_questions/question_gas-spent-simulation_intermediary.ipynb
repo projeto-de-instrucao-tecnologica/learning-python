{
  "nbformat": 4,
  "nbformat_minor": 0,
  "metadata": {
    "kernelspec": {
      "display_name": "Python 3",
      "language": "python",
      "name": "python3"
    },
    "language_info": {
      "codemirror_mode": {
        "name": "ipython",
        "version": 3
      },
      "file_extension": ".py",
      "mimetype": "text/x-python",
      "name": "python",
      "nbconvert_exporter": "python",
      "pygments_lexer": "ipython3",
      "version": "3.7.3"
    },
    "colab": {
      "name": "question_template_basic.ipynb",
      "provenance": [],
      "collapsed_sections": []
    }
  },
  "cells": [
    {
      "cell_type": "markdown",
      "metadata": {
        "id": "xNSBh8oELVeM"
      },
      "source": [
        "# Learning Python"
      ]
    },
    {
      "cell_type": "markdown",
      "metadata": {
        "id": "eElGT1PwLVeN"
      },
      "source": [
        "Remember to **restart the kernel** (Kernel$\\rightarrow$Restart) and then **execute all cells** (Cell$\\rightarrow$Run All) to verify that all solutions are correct. Fill with your code in the place that say `SUA SOLUÇÃO` or `YOUR ANSWER HERE` and do not change the other cells in this notebook."
      ]
    },
    {
      "cell_type": "markdown",
      "metadata": {
        "deletable": false,
        "editable": false,
        "nbgrader": {
          "checksum": "5826427af10cda68f9de1b88d338e2e0",
          "grade": false,
          "grade_id": "cell-0bd71dfsasdaojfaosjofa",
          "locked": true,
          "schema_version": 1,
          "solution": false
        },
        "id": "I0Cj4cfS3eQj"
      },
      "source": [
        "---\n",
        "## Sistema de Abastacimento de Carros\n",
        "\n",
        "A classe Carro mostrada abaixo possui dois atributos que representam, respectivamente, o consumo de combustível (medido em km/litro) e a quantidade de combustível no tanque. O consumo é especificado no construtor e o nível de combustível inicial é 0.\n",
        "\n",
        "Forneça um método drive( ) que simule o ato de dirigir o veículo por uma certa distância, reduzindo o nível de combustível no tanque de gasolina. Caso o nível for ficar negativo, deve se manter como Zero.\n",
        "\n",
        "Forneça um método showGas( ), que retorna o nível atual de combustível.\n",
        "\n",
        "Forneça um método addGas( ), para abastecer o tanque."
      ]
    },
    {
      "cell_type": "code",
      "metadata": {
        "deletable": false,
        "nbgrader": {
          "checksum": "fed44e9823471272e55b0fefff910af9",
          "grade": false,
          "grade_id": "registro",
          "locked": false,
          "schema_version": 1,
          "solution": true
        },
        "id": "_AMjN5AW3eQk"
      },
      "source": [
        "class Car:\n",
        "    def __init__(self, kilometersPerLiter):\n",
        "        self.kilometersPerLiter = kilometersPerLiter;\n",
        "        self.gasQuantity = 0;\n",
        "    \n",
        "    # Ensina o Python como testar se duas pessoas são iguais. Não modifique.\n",
        "    def __eq__(self, other):\n",
        "        return self.kilometersPerLiter == other.kilometersPerLiter and self.gasQuantity == other.gasQuantity;\n",
        "    \n",
        "    def drive(self, distance):\n",
        "        \"\"\"\n",
        "        Simula o ato de dirigir o veículo por uma certa distância, reduzindo o nível de combustível.\n",
        "        \"\"\"\n",
        "        NotImplemented # YOUR ANSWER HERE\n",
        "\n",
        "    def showGas(self):\n",
        "        \"\"\"\n",
        "        Retorna o nível atual de combustível.\n",
        "        \"\"\"\n",
        "        NotImplemented # YOUR ANSWER HERE\n",
        "\n",
        "    def addGas(self, gasAdded):\n",
        "        \"\"\"\n",
        "        Abastece o tanque.\n",
        "        \"\"\"\n",
        "        NotImplemented # YOUR ANSWER HERE"
      ],
      "execution_count": null,
      "outputs": []
    },
    {
      "cell_type": "code",
      "metadata": {
        "deletable": false,
        "editable": false,
        "nbgrader": {
          "checksum": "7d143bb0939fd45d1dca31b1e986ee08",
          "grade": true,
          "grade_id": "registro-login-1",
          "locked": true,
          "points": 1,
          "schema_version": 1,
          "solution": false
        },
        "id": "cYUjLaLd3eQn"
      },
      "source": [
        "# Exemplo para você experimentar sua implementação :)\n",
        "\n",
        "myCar = Car(15);                    # 10 quilômetros por litro de combustível.\n",
        "\"{}\".format(myCar.showGas());       # Imprime o combustível atual no tanque.\n",
        "myCar.drive(60);                    # anda 60 quilômetros.\n",
        "myCar.addGas(20);                   # abastece com 20 litros de combustível. \n",
        "myCar.drive(30);                    # anda 30 quilômetros.\n",
        "\"{}\".format(myCar.showGas());       # Imprime o combustível que resta no tanque."
      ],
      "execution_count": null,
      "outputs": []
    },
    {
      "cell_type": "code",
      "metadata": {
        "deletable": false,
        "editable": false,
        "nbgrader": {
          "checksum": "985f63bdecad89d6d1797b08670088dc",
          "grade": true,
          "grade_id": "registro-login-2",
          "locked": true,
          "points": 1,
          "schema_version": 1,
          "solution": false
        },
        "id": "b9vnmmBX3eQr"
      },
      "source": [
        "# Testes do Sistema\n",
        "\n",
        "theCar = Car(10);\n",
        "assert theCar.showGas() == 0;\n",
        "myCar.addGas(20);\n",
        "assert theCar.showGas() == 20;\n",
        "myCar.drive(50);\n",
        "assert theCar.showGas() == 15;\n",
        "myCar.drive(100);\n",
        "assert theCar.showGas() == 5;\n",
        "myCar.addGas(95);\n",
        "assert theCar.showGas() == 100;\n",
        "myCar.drive(900);\n",
        "assert theCar.showGas() == 10;\n",
        "myCar.drive(110);\n",
        "assert theCar.showGas() == 0;\n",
        "print('Parabens');"
      ],
      "execution_count": null,
      "outputs": []
    }
  ]
}