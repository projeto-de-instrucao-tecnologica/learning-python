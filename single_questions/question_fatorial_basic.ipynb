{
  "nbformat": 4,
  "nbformat_minor": 0,
  "metadata": {
    "colab": {
      "name": "Calculadora de fatorial.ipynb",
      "provenance": []
    },
    "kernelspec": {
      "name": "python3",
      "display_name": "Python 3"
    }
  },
  "cells": [
    {
      "cell_type": "markdown",
      "metadata": {
        "id": "Y4fMPFrFbh_J",
        "colab_type": "text"
      },
      "source": [
        "---\n",
        "## FATORIAL\n",
        "\n",
        "Fatorial é o produto do números inteiros positivos consecutivos de um número natural n, menores ou iguais a n. Os quais são indicados por uma (!) após o numero ex.: 5!\n",
        "\n",
        "Implemente na função fatorial o código necessario para calcular um fatorial de um número inteiro."
      ]
    },
    {
      "cell_type": "code",
      "metadata": {
        "id": "M-9w6r9Qh6V4",
        "colab_type": "code",
        "colab": {}
      },
      "source": [
        "def fatorial(fat)\n",
        "  NotImplemented #YOUR ANSWER HERE"
      ],
      "execution_count": 0,
      "outputs": []
    },
    {
      "cell_type": "code",
      "metadata": {
        "id": "88Gs64edhFxO",
        "colab_type": "code",
        "colab": {}
      },
      "source": [
        "#Exemplo de fatorial: 5! = 120\n",
        "#Teste sua implementação aqui\n",
        "\n",
        "fatorial(10)"
      ],
      "execution_count": 0,
      "outputs": []
    },
    {
      "cell_type": "code",
      "metadata": {
        "id": "TJB4U3AGiDyH",
        "colab_type": "code",
        "colab": {}
      },
      "source": [
        "\"\"\"Verifica se a função foi implementada corretamente\"\"\"\n",
        "assert fatorial(5) == 120\n",
        "assert fatorial(10) == 3628800\n",
        "assert fatorial(15) == 1307674368000\n",
        "print('Parabéns!')"
      ],
      "execution_count": 0,
      "outputs": []
    }
  ]
}