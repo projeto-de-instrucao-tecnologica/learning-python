{
 "cells": [
  {
   "cell_type": "markdown",
   "metadata": {},
   "source": [
    "# Learning Python"
   ]
  },
  {
   "cell_type": "markdown",
   "metadata": {},
   "source": [
    "Remember to **restart the kernel** (Kernel$\\rightarrow$Restart) and then **execute all cells** (Cell$\\rightarrow$Run All) to verify that all solutions are correct. Fill with your code in the place that say `SUA SOLUÇÃO` or `YOUR ANSWER HERE` and do not change the other cells in this notebook."
   ]
  },
  {
   "cell_type": "markdown",
   "metadata": {},
   "source": [
    "---\n",
    "## Ordenação\n",
    "Implemente uma função que ordenará um vetor de inteiro em ordem crescente."
   ]
  },
  {
   "cell_type": "code",
   "execution_count": null,
   "metadata": {},
   "outputs": [],
   "source": [
    "def ordering(values):\n",
    "    \"\"\"\n",
    "    Retorna o vetor ordenado\n",
    "    \"\"\" \n",
    "    NotImplemented # YOUR ANSWER HERE\n",
    "    return None"
   ]
  },
  {
   "cell_type": "code",
   "execution_count": null,
   "metadata": {},
   "outputs": [],
   "source": [
    "\"Testes para a função de ordering\"\n",
    "\n",
    "assert ordering([9, 8, 7, 6, 5, 4, 3, 2, 1]) == [1, 2, 3, 4, 5, 6, 7, 8, 9]\n",
    "assert ordering([9, 1, 8, 2, 7, 3, 6, 4, 5]) == [1, 2, 3, 4, 5, 6, 7, 8, 9]\n",
    "assert ordering([1, 200, 150, 61, 85, 14, 0]) == [0, 1, 14, 61, 85, 150, 200]\n",
    "assert ordering([-5, -33, -20, 0, 5, 33, 20]) == [-33, -20, -5, 0, 5, 20, 33]\n",
    "print('Parabéns!')"
   ]
  }
 ],
 "metadata": {
  "language_info": {
   "name": "python"
  },
  "orig_nbformat": 4
 },
 "nbformat": 4,
 "nbformat_minor": 2
}
