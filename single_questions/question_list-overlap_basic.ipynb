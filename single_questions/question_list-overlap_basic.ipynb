{
  "nbformat": 4,
  "nbformat_minor": 0,
  "metadata": {
    "kernelspec": {
      "display_name": "Python 3",
      "language": "python",
      "name": "python3"
    },
    "language_info": {
      "codemirror_mode": {
        "name": "ipython",
        "version": 3
      },
      "file_extension": ".py",
      "mimetype": "text/x-python",
      "name": "python",
      "nbconvert_exporter": "python",
      "pygments_lexer": "ipython3",
      "version": "3.7.3"
    },
    "colab": {
      "name": "question_list-overlap_basic.ipynb",
      "provenance": [],
      "collapsed_sections": []
    }
  },
  "cells": [
    {
      "cell_type": "markdown",
      "metadata": {
        "id": "xNSBh8oELVeM",
        "colab_type": "text"
      },
      "source": [
        "# Learning Python"
      ]
    },
    {
      "cell_type": "markdown",
      "metadata": {
        "id": "eElGT1PwLVeN",
        "colab_type": "text"
      },
      "source": [
        "Remember to **restart the kernel** (Kernel$\\rightarrow$Restart) and then **execute all cells** (Cell$\\rightarrow$Run All) to verify that all solutions are correct. Fill with your code in the place that say `SUA SOLUÇÃO` or `YOUR ANSWER HERE` and do not change the other cells in this notebook."
      ]
    },
    {
      "cell_type": "markdown",
      "metadata": {
        "deletable": false,
        "editable": false,
        "nbgrader": {
          "checksum": "5826427af10cda68f9de1b88d338e2e0",
          "grade": false,
          "grade_id": "cell-0bd71dfsasdaojfaosjofa",
          "locked": true,
          "schema_version": 1,
          "solution": false
        },
        "id": "I0Cj4cfS3eQj",
        "colab_type": "text"
      },
      "source": [
        "---\n",
        "## Cruzamento de Listas\n",
        "\n",
        "Dada duas listas de entrada como parâmetro, ex.:\n",
        "\n",
        "a = [1, 1, 2, 3, 5, 8, 13, 21, 34, 55, 89]\n",
        "b = [1, 2, 3, 4, 5, 6, 7, 8, 9, 10, 11, 12, 13]\n",
        "\n",
        "Implemente a função que retorne uma nova lista com os elementos que aparecem em ambas as listas sem repetir números que já foram selecionados."
      ]
    },
    {
      "cell_type": "code",
      "metadata": {
        "deletable": false,
        "nbgrader": {
          "checksum": "1e30dd42985238c0dddc5376d70c7473",
          "grade": false,
          "grade_id": "classe-pessoa",
          "locked": false,
          "schema_version": 1,
          "solution": true
        },
        "colab_type": "code",
        "id": "v7a1j7iZlsuc",
        "colab": {}
      },
      "source": [
        "def list_overlap(list_a, list_b):\n",
        "    '''\n",
        "    Retorna uma lista com os números que aparecem em ambas as listas.\n",
        "    '''\n",
        "    NotImplemented # YOUR ANSWER HERE\n",
        "    return None"
      ],
      "execution_count": 0,
      "outputs": []
    },
    {
      "cell_type": "code",
      "metadata": {
        "colab_type": "code",
        "id": "tT4yepZxlsue",
        "colab": {}
      },
      "source": [
        "# Exemplo para você experimentar sua implementação :D\n",
        "# Deve mostrar a lista: [1, 4]\n",
        "lista = list_overlap([1, 2, 3, 4], [1, 1, 1, 4])\n",
        "lista"
      ],
      "execution_count": 0,
      "outputs": []
    },
    {
      "cell_type": "code",
      "metadata": {
        "deletable": false,
        "editable": false,
        "nbgrader": {
          "checksum": "d4faec3ac0cbf3d9f32747949b4f1b9b",
          "grade": true,
          "grade_id": "classe-pessoa-test",
          "locked": true,
          "points": 0,
          "schema_version": 1,
          "solution": false
        },
        "colab_type": "code",
        "id": "W1GeaDQ9lsuh",
        "colab": {}
      },
      "source": [
        "assert list_overlap([1, 1, 2, 3, 5, 8, 13, 21, 34, 55, 89], [1, 2, 3, 4, 5, 6, 7, 8, 9, 10, 11, 12, 13]) == [1, 2, 3, 5, 8, 13]\n",
        "assert list_overlap([0, 1, 2, 4, 5, 50, 56, 100, 101, 200], [0, 2, 3, 5, 40, 45, 46, 56, 100]) == [0, 2, 5 ,56 100]\n",
        "assert list_overlap([2, 80, 85], [1, 2, 3, 4, 5, 6, 7, 8, 9, 85, 100, 102]) == [2, 85]\n",
        "print('Parabens')"
      ],
      "execution_count": 0,
      "outputs": []
    }
  ]
}