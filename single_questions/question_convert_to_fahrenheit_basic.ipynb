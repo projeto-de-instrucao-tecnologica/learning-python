{
  "nbformat": 4,
  "nbformat_minor": 0,
  "metadata": {
    "colab": {
      "name": "question_convert-to-fahrenheit_basic.ipynb",
      "provenance": []
    },
    "kernelspec": {
      "name": "python3",
      "display_name": "Python 3"
    }
  },
  "cells": [
    {
      "cell_type": "markdown",
      "metadata": {
        "id": "r5pt7FFLQEq4"
      },
      "source": [
        "\n",
        "Learning Python\n",
        "Remember to restart the kernel (Kernel$\\rightarrow$Restart) and then execute all cells (Cell$\\rightarrow$Run All) to verify that all solutions are correct. Fill with your code in the place that say SUA SOLUÇÃO or YOUR ANSWER HERE and do not change the other cells in this notebook.\n",
        "\n"
      ]
    },
    {
      "cell_type": "markdown",
      "metadata": {
        "id": "E_Cc5-3KQKxK"
      },
      "source": [
        "Escreva uma função que convertera temperatura em °C para °F."
      ]
    },
    {
      "cell_type": "code",
      "metadata": {
        "id": "JkNmm6QyQHmA"
      },
      "source": [
        "def temperatureConverter(temperatura):\n",
        "    \"\"\"\n",
        "    Retorna a temperatura em fahrenheit\n",
        "    \"\"\"\n",
        "    NotImplemented # YOUR ANSWER HERE\n",
        "    return None"
      ],
      "execution_count": null,
      "outputs": []
    },
    {
      "cell_type": "code",
      "metadata": {
        "id": "OWhwg4-tTtPY"
      },
      "source": [
        "\"Testes para a função de temperatureConverter()\"\n",
        "\n",
        "assert secondsConverter(0) == 32\n",
        "assert secondsConverter(42) == 107.6\n",
        "assert secondsConverter(-40) == -40\n",
        "print('Parabéns!')"
      ],
      "execution_count": null,
      "outputs": []
    }
  ]
}