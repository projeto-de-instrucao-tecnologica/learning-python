{
 "cells": [
  {
   "cell_type": "markdown",
   "id": "34dea2b1-bb70-473e-b24b-19b7db8e2c24",
   "metadata": {},
   "source": [
    "# Learning Python"
   ]
  },
  {
   "cell_type": "markdown",
   "id": "1e1a862c-898c-4f6c-85e0-1a21565c3f1c",
   "metadata": {},
   "source": [
    "Remember to **restart the kernel** (Kernel$\\rightarrow$Restart) and then **execute all cells** (Cell$\\rightarrow$Run All) to verify that all solutions are correct. Fill with your code in the place that say `SUA SOLUÇÃO` or `YOUR ANSWER HERE` and do not change the other cells in this notebook."
   ]
  },
  {
   "cell_type": "markdown",
   "id": "125da741-a590-4552-97ba-e6e2c1ac29c2",
   "metadata": {},
   "source": [
    "---\n",
    "## Pedra Papel e Tesoura\n",
    "\n",
    "Escreva uma função que recebe dois parâmetros, o primeiro é a jogada do player 1 e o segundo é a jogada do player 2, e retorne uma String informando o resultado da jogada: \"Player 1 venceu\", \"Player 2 venceu\" e \"Empate\"."
   ]
  },
  {
   "cell_type": "code",
   "execution_count": 2,
   "id": "3611ecb2-ca16-450f-9873-a02fbe00d96c",
   "metadata": {},
   "outputs": [],
   "source": [
    "def rockPaperScissors(play1, play2):\n",
    "    \"\"\"\n",
    "    Retorna a String correspondente ao resultado da jogada\n",
    "    \"\"\"\n",
    "    NotImplemented # YOUR ANSWER HERE\n",
    "    return None"
   ]
  },
  {
   "cell_type": "code",
   "execution_count": null,
   "id": "d95c2cd0-b6aa-4cc5-93c2-b178ea398dc7",
   "metadata": {},
   "outputs": [],
   "source": [
    "\"Testes para a função de rockPaperScissors()\"\n",
    "\n",
    "assert rockPaperScissors('pedra', 'tesoura') == \"Player 1 venceu\"\n",
    "assert rockPaperScissors('tesoura', 'papel') == \"Player 1 venceu\"\n",
    "assert rockPaperScissors('pedra', 'papel') == \"Player 2 venceu\"\n",
    "assert rockPaperScissors('tesoura', 'pedra') == \"Player 2 venceu\"\n",
    "assert rockPaperScissors('tesoura', 'tesoura') == \"Empate\"\n",
    "assert rockPaperScissors('pedra', 'pedra') == \"Empate\"\n",
    "assert rockPaperScissors('papel', 'papel') == \"Empate\"\n",
    "print('Parabéns!')"
   ]
  }
 ],
 "metadata": {
  "kernelspec": {
   "display_name": "Python 3 (ipykernel)",
   "language": "python",
   "name": "python3"
  },
  "language_info": {
   "codemirror_mode": {
    "name": "ipython",
    "version": 3
   },
   "file_extension": ".py",
   "mimetype": "text/x-python",
   "name": "python",
   "nbconvert_exporter": "python",
   "pygments_lexer": "ipython3",
   "version": "3.9.7"
  }
 },
 "nbformat": 4,
 "nbformat_minor": 5
}
