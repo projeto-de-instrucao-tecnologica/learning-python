{
  "nbformat": 4,
  "nbformat_minor": 0,
  "metadata": {
    "colab": {
      "name": "Mediana_basic.ipynb",
      "provenance": []
    },
    "kernelspec": {
      "name": "python3",
      "display_name": "Python 3"
    }
  },
  "cells": [
    {
      "cell_type": "markdown",
      "metadata": {
        "id": "FhoQrIQ1vYgi",
        "colab_type": "text"
      },
      "source": [
        "---\n",
        "## Mediana\n",
        "\n",
        "Voce deve implementar na função um código para calcular em uma lista de valores a mediana desses valores"
      ]
    },
    {
      "cell_type": "code",
      "metadata": {
        "id": "b21SE0Jrue7E",
        "colab_type": "code",
        "colab": {}
      },
      "source": [
        "def mediana(values):\n",
        "    NotImplemented #YOUR ANSWER HERE"
      ],
      "execution_count": 0,
      "outputs": []
    },
    {
      "cell_type": "code",
      "metadata": {
        "id": "J6yrDvJS0tZ9",
        "colab_type": "code",
        "colab": {}
      },
      "source": [
        "#verifique sua implementação\n",
        "mediana([1, 1, 2, 2, 3, 3]) "
      ],
      "execution_count": 0,
      "outputs": []
    },
    {
      "cell_type": "code",
      "metadata": {
        "id": "Tkbd7Z-z4Uxv",
        "colab_type": "code",
        "colab": {}
      },
      "source": [
        "\"Verifica implementação de mediana()\"\n",
        "assert todos_iguais([1, 1, 1]) == 1\n",
        "assert todos_iguais([1, 2, 3, 4]) == 2.5\n",
        "assert todos_iguais([1, 1, 2, 2, 3, 3]) == 2\n",
        "assert todos_iguais([1, 2, 3, 4, 5, 6, 7, 8, 9]) == 5\n",
        "print('Parabéns!')"
      ],
      "execution_count": 0,
      "outputs": []
    }
  ]
}