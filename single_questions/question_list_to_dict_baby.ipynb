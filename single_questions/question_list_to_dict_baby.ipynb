{
  "nbformat": 4,
  "nbformat_minor": 0,
  "metadata": {
    "colab": {
      "name": "question_list-to-dict_baby.ipynb",
      "provenance": [],
      "collapsed_sections": []
    },
    "kernelspec": {
      "name": "python3",
      "display_name": "Python 3"
    },
    "language_info": {
      "name": "python"
    }
  },
  "cells": [
    {
      "cell_type": "markdown",
      "metadata": {
        "id": "o37yO_Z__GuF"
      },
      "source": [
        "# Learning Python"
      ]
    },
    {
      "cell_type": "markdown",
      "metadata": {
        "id": "QMus5mg9_Zrp"
      },
      "source": [
        "Remember to restart the kernel (Kernel$\\rightarrow$Restart) and then execute all cells (Cell$\\rightarrow$Run All) to verify that all solutions are correct. Fill with your code in the place that say SUA SOLUÇÃO or YOUR ANSWER HERE and do not change the other cells in this notebook."
      ]
    },
    {
      "cell_type": "markdown",
      "metadata": {
        "id": "h5xAcDSP_fKL"
      },
      "source": [
        "---\n",
        "\n",
        "Escreva uma função que recebe duas listas (keys e values) de mesmo tamanho, e retorna um dictionary atribuindo cada key da primeira lista ao valor de cada posição da segunda lista respectivamente. Ex.:\n",
        "\n",
        "* Input:\n",
        "\n",
        "keys = ['Ten', 'Twenty', 'Thirty']\n",
        "\n",
        "values = [10, 20, 30]\n",
        "\n",
        "* Output:\n",
        "\n",
        "{'Ten': 10, 'Twenty': 20, 'Thirty': 30}"
      ]
    },
    {
      "cell_type": "code",
      "metadata": {
        "id": "dzz3cezAHTf3"
      },
      "source": [
        "def dictCreator(keys, values):\n",
        "    \"\"\"\n",
        "    Retorna um dict da união dos arrays\n",
        "    \"\"\"\n",
        "    NotImplemented # YOUR ANSWER HERE\n",
        "    return None"
      ],
      "execution_count": null,
      "outputs": []
    },
    {
      "cell_type": "code",
      "metadata": {
        "id": "rb-q6Sm-HZhA",
        "colab": {
          "base_uri": "https://localhost:8080/"
        },
        "outputId": "54aecad4-002b-4541-aad0-a9511cf9bc80"
      },
      "source": [
        "\"Testes para a função de dictCreator()\"\n",
        "\n",
        "assert dictCreator(['Ten', 'Twenty', 'Thirty'], [10, 20, 30]) == {'Ten': 10, 'Twenty': 20, 'Thirty': 30}\n",
        "assert dictCreator(['Bla', 'Blabla', 'Blablabla'], [1, 2, 3]) == {'Bla': 1, 'Blabla': 2, 'Blablabla': 3}\n",
        "assert dictCreator(['Xa'], [\"Blau\"]) == {'Xa': 'Blau'}\n",
        "print('Parabéns!')"
      ],
      "execution_count": null,
      "outputs": [
        {
          "output_type": "stream",
          "name": "stdout",
          "text": [
            "Parabéns!\n"
          ]
        }
      ]
    }
  ]
}