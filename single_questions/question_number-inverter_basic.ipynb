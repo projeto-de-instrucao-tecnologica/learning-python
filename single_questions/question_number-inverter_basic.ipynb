{
  "nbformat": 4,
  "nbformat_minor": 0,
  "metadata": {
    "kernelspec": {
      "display_name": "Python 3",
      "language": "python",
      "name": "python3"
    },
    "language_info": {
      "codemirror_mode": {
        "name": "ipython",
        "version": 3
      },
      "file_extension": ".py",
      "mimetype": "text/x-python",
      "name": "python",
      "nbconvert_exporter": "python",
      "pygments_lexer": "ipython3",
      "version": "3.7.3"
    },
    "colab": {
      "name": "question_template_basic.ipynb",
      "provenance": [],
      "collapsed_sections": []
    }
  },
  "cells": [
    {
      "cell_type": "markdown",
      "metadata": {
        "id": "xNSBh8oELVeM"
      },
      "source": [
        "# Learning Python"
      ]
    },
    {
      "cell_type": "markdown",
      "metadata": {
        "id": "eElGT1PwLVeN"
      },
      "source": [
        "Remember to **restart the kernel** (Kernel$\\rightarrow$Restart) and then **execute all cells** (Cell$\\rightarrow$Run All) to verify that all solutions are correct. Fill with your code in the place that say `SUA SOLUÇÃO` or `YOUR ANSWER HERE` and do not change the other cells in this notebook."
      ]
    },
    {
      "cell_type": "markdown",
      "metadata": {
        "deletable": false,
        "editable": false,
        "nbgrader": {
          "checksum": "5826427af10cda68f9de1b88d338e2e0",
          "grade": false,
          "grade_id": "cell-0bd71dfsasdaojfaosjofa",
          "locked": true,
          "schema_version": 1,
          "solution": false
        },
        "id": "I0Cj4cfS3eQj"
      },
      "source": [
        "---\n",
        "## Corrigir número de telefone\n",
        "\n",
        "Faça um programa que peça um numero inteiro positivo e em seguida mostre este número invertido. Ex: 4561 -> 1654. Caso o usuário insira um número inválido, a função deve retornar a seguinte mensagem: \"Tente Novamente\"."
      ]
    },
    {
      "cell_type": "code",
      "metadata": {
        "deletable": false,
        "nbgrader": {
          "checksum": "fed44e9823471272e55b0fefff910af9",
          "grade": false,
          "grade_id": "registro",
          "locked": false,
          "schema_version": 1,
          "solution": true
        },
        "id": "_AMjN5AW3eQk"
      },
      "source": [
        "def numberInverter(number):\n",
        "    \"\"\"\n",
        "    Retorna o número invertido\n",
        "    \"\"\"\n",
        "    NotImplemented # YOUR ANSWER HERE\n",
        "    return None"
      ],
      "execution_count": null,
      "outputs": []
    },
    {
      "cell_type": "code",
      "metadata": {
        "deletable": false,
        "editable": false,
        "nbgrader": {
          "checksum": "7d143bb0939fd45d1dca31b1e986ee08",
          "grade": true,
          "grade_id": "registro-login-1",
          "locked": true,
          "points": 1,
          "schema_version": 1,
          "solution": false
        },
        "id": "cYUjLaLd3eQn"
      },
      "source": [
        "\"Testes para a função de numberInverter()\"\n",
        "\n",
        "assert numberInverter(0) == 'Tente Novamente'\n",
        "assert numberInverter(-8) == 'Tente Novamente'\n",
        "assert numberInverter(1234567) == 7654321\n",
        "assert numberInverter(8954222) == 2224598\n",
        "assert numberInverter(1) == 1\n",
        "assert numberInverter(14) == 41\n",
        "assert numberInverter(5666666) == 6666665\n",
        "assert numberInverter(753951) == 159357\n",
        "print('Parabéns!')"
      ],
      "execution_count": null,
      "outputs": []
    }
  ]
}