{
 "cells": [
  {
   "cell_type": "markdown",
   "metadata": {},
   "source": [
    "# Learning Python"
   ]
  },
  {
   "cell_type": "markdown",
   "metadata": {},
   "source": [
    "Remember to **restart the kernel** (Kernel $\\rightarrow$ Restart) and then **execute all cells** (Cell $\\rightarrow$ Run All) to verify that all solutions are correct. Fill with your code in the place that say `SUA SOLUÇÃO` or `YOUR ANSWER HERE` and do not change the other cells in this notebook."
   ]
  },
  {
   "cell_type": "markdown",
   "metadata": {},
   "source": [
    "---\n",
    "## Ping Pong\n",
    "implemente uma função que conte de 0 a N, e quando o número for divisível por 3 substitua por Ping, se for divisível por 5 substitua por Pong e se for divisível por 3 e 5 substitua por PingPong. Este resultado deve ser retornado em uma lista"
   ]
  },
  {
   "cell_type": "code",
   "execution_count": null,
   "metadata": {},
   "outputs": [],
   "source": [
    "def pingPong(value):\n",
    "    \"\"\"\n",
    "    Retorna uma lista com a contagem dos números\n",
    "    \"\"\"\n",
    "    NotImplemented\n",
    "    return None"
   ]
  },
  {
   "cell_type": "code",
   "execution_count": 5,
   "metadata": {},
   "outputs": [
    {
     "name": "stdout",
     "output_type": "stream",
     "text": [
      "Parabéns!\n"
     ]
    }
   ],
   "source": [
    "\"Testes para a função pingPong()\"\n",
    "\n",
    "assert pingPong(15) == [0, 1, 2, 'Ping', 4, 'Pong', 'Ping', 7, 8, 'Ping', 'Pong', 11, 'Ping', 13, 14, 'PingPong']\n",
    "assert pingPong(10) == [0, 1, 2, 'Ping', 4, 'Pong', 'Ping', 7, 8, 'Ping', 'Pong']\n",
    "assert pingPong(5) == [0, 1, 2, 'Ping', 4, 'Pong']\n",
    "assert pingPong(20) == [0, 1, 2, 'Ping', 4, 'Pong', 'Ping', 7, 8, 'Ping', 'Pong', 11, 'Ping', 13, 14, 'PingPong', 16, 17, 'Ping', 19, 'Pong']\n",
    "print('Parabéns!')"
   ]
  }
 ],
 "metadata": {
  "interpreter": {
   "hash": "916dbcbb3f70747c44a77c7bcd40155683ae19c65e1c03b4aa3499c5328201f1"
  },
  "kernelspec": {
   "display_name": "Python 3.8.5 64-bit",
   "name": "python3"
  },
  "language_info": {
   "codemirror_mode": {
    "name": "ipython",
    "version": 3
   },
   "file_extension": ".py",
   "mimetype": "text/x-python",
   "name": "python",
   "nbconvert_exporter": "python",
   "pygments_lexer": "ipython3",
   "version": "3.8.5"
  },
  "orig_nbformat": 4
 },
 "nbformat": 4,
 "nbformat_minor": 2
}
