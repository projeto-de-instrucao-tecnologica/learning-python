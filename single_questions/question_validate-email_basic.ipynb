{
 "cells": [
  {
   "cell_type": "markdown",
   "id": "9f2bb55a-e1ef-453a-b74d-85e1006d4507",
   "metadata": {},
   "source": [
    "# Learning Python"
   ]
  },
  {
   "cell_type": "markdown",
   "id": "aede2dd3-3402-45c8-86e0-655e078b4412",
   "metadata": {},
   "source": [
    "Remember to **restart the kernel** (Kernel$\\rightarrow$Restart) and then **execute all cells** (Cell$\\rightarrow$Run All) to verify that all solutions are correct. Fill with your code in the place that say `SUA SOLUÇÃO` or `YOUR ANSWER HERE` and do not change the other cells in this notebook."
   ]
  },
  {
   "cell_type": "markdown",
   "id": "52c0fb81-a80c-4c7b-a7b5-49f663c5477d",
   "metadata": {},
   "source": [
    "---\n",
    "## Validar email\n",
    "\n",
    "Escreva uma função que valida um endereço de email e retorna True caso seja válido e False caso seja inválido."
   ]
  },
  {
   "cell_type": "code",
   "execution_count": null,
   "id": "9e84d591-0d19-42f4-8d97-43baff7d4f58",
   "metadata": {},
   "outputs": [],
   "source": [
    "def emailValidate(email):\n",
    "    \"\"\"\n",
    "    Retorna True caso o email seja válido e False caso o email seja inválido\n",
    "    \"\"\"\n",
    "    NotImplemented # YOUR ANSWER HERE\n",
    "    return None"
   ]
  },
  {
   "cell_type": "code",
   "execution_count": null,
   "id": "2193938c-1ff6-49c4-8eca-01b8f2cef8a6",
   "metadata": {},
   "outputs": [],
   "source": [
    "\"Testes para a função de emailValidate()\"\n",
    "\n",
    "assert emailValidate('fulanodasilva@gmail.com') == True\n",
    "assert emailValidate('FulanoDeTal@uol.com.br') == True\n",
    "assert emailValidate('raimundo45@marco.terra') == True\n",
    "assert emailValidate('beregue-com') == False\n",
    "assert emailValidate('ff@ff@@@..comaa') == False\n",
    "assert emailValidate('olá') == False\n",
    "assert emailValidate('14523687@email.br') == True\n",
    "assert emailValidate('email.br') == False\n",
    "print('Parabéns!')"
   ]
  }
 ],
 "metadata": {
  "kernelspec": {
   "display_name": "Python 3 (ipykernel)",
   "language": "python",
   "name": "python3"
  },
  "language_info": {
   "codemirror_mode": {
    "name": "ipython",
    "version": 3
   },
   "file_extension": ".py",
   "mimetype": "text/x-python",
   "name": "python",
   "nbconvert_exporter": "python",
   "pygments_lexer": "ipython3",
   "version": "3.9.7"
  }
 },
 "nbformat": 4,
 "nbformat_minor": 5
}
