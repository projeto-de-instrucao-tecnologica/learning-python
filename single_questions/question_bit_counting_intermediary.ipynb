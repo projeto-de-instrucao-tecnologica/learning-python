{
  "cells": [
    {
      "cell_type": "markdown",
      "metadata": {
        "id": "xNSBh8oELVeM"
      },
      "source": [
        "# Learning Python"
      ]
    },
    {
      "cell_type": "markdown",
      "metadata": {
        "id": "eElGT1PwLVeN"
      },
      "source": [
        "Remember to **restart the kernel** (Kernel$\\rightarrow$Restart) and then **execute all cells** (Cell$\\rightarrow$Run All) to verify that all solutions are correct. Fill with your code in the place that say `SUA SOLUÇÃO` or `YOUR ANSWER HERE` and do not change the other cells in this notebook."
      ]
    },
    {
      "cell_type": "markdown",
      "metadata": {
        "deletable": false,
        "editable": false,
        "id": "I0Cj4cfS3eQj",
        "nbgrader": {
          "checksum": "5826427af10cda68f9de1b88d338e2e0",
          "grade": false,
          "grade_id": "cell-0bd71dfsasdaojfaosjofa",
          "locked": true,
          "schema_version": 1,
          "solution": false
        }
      },
      "source": [
        "---\n",
        "## Contador de Bits\n",
        "\n",
        "Escreva uma função que receba um inteiro como entrada e retorne o número de bits que são iguais a 1 na representação binária desse número. Você pode assumir que a entrada não será negativa.\n",
        "\n",
        "Exemplo: A representação binária de 1234 é 10011010010, então a função deve retornar 5 neste caso."
      ]
    },
    {
      "cell_type": "code",
      "execution_count": 27,
      "metadata": {
        "deletable": false,
        "id": "_AMjN5AW3eQk",
        "nbgrader": {
          "checksum": "fed44e9823471272e55b0fefff910af9",
          "grade": false,
          "grade_id": "registro",
          "locked": false,
          "schema_version": 1,
          "solution": true
        }
      },
      "outputs": [],
      "source": [
        "def bit_counting(value):\n",
        "    \"\"\"\n",
        "    Retorna um inteiro com a contagem de números 1's\n",
        "    \"\"\"\n",
        "    NotImplemented # YOUR ANSWER HERE\n",
        "    return None"
      ]
    },
    {
      "cell_type": "code",
      "execution_count": 26,
      "metadata": {
        "colab": {
          "base_uri": "https://localhost:8080/"
        },
        "deletable": false,
        "editable": false,
        "id": "cYUjLaLd3eQn",
        "nbgrader": {
          "checksum": "7d143bb0939fd45d1dca31b1e986ee08",
          "grade": true,
          "grade_id": "registro-login-1",
          "locked": true,
          "points": 1,
          "schema_version": 1,
          "solution": false
        },
        "outputId": "c8a6aeb9-2e44-4890-81d2-84a124f13b5b"
      },
      "outputs": [
        {
          "name": "stdout",
          "output_type": "stream",
          "text": [
            "5\n"
          ]
        }
      ],
      "source": [
        "# Exemplo para você experimentar sua implementação :)\n",
        "print(\"{}\".format(bit_counting(1234)));       # Imprime o valor da função"
      ]
    },
    {
      "cell_type": "code",
      "execution_count": 25,
      "metadata": {
        "colab": {
          "base_uri": "https://localhost:8080/"
        },
        "deletable": false,
        "editable": false,
        "id": "b9vnmmBX3eQr",
        "nbgrader": {
          "checksum": "985f63bdecad89d6d1797b08670088dc",
          "grade": true,
          "grade_id": "registro-login-2",
          "locked": true,
          "points": 1,
          "schema_version": 1,
          "solution": false
        },
        "outputId": "3db0968e-5bbb-4e98-a148-42a417503e3b"
      },
      "outputs": [
        {
          "name": "stdout",
          "output_type": "stream",
          "text": [
            "Parabens\n"
          ]
        }
      ],
      "source": [
        "# Testes do Sistema\n",
        "\n",
        "assert bit_counting(0) == 0;\n",
        "assert bit_counting(1) == 1;\n",
        "assert bit_counting(2) == 1;\n",
        "assert bit_counting(22) == 3;\n",
        "assert bit_counting(8191) == 13;\n",
        "assert bit_counting(82) == 3;\n",
        "assert bit_counting(876321054) == 16;\n",
        "assert bit_counting(123) == 6;\n",
        "assert bit_counting(745896321) == 15;\n",
        "assert bit_counting(1234) == 5;\n",
        "\n",
        "print('Parabens');"
      ]
    }
  ],
  "metadata": {
    "colab": {
      "collapsed_sections": [],
      "provenance": []
    },
    "kernelspec": {
      "display_name": "Python 3.9.6 64-bit",
      "language": "python",
      "name": "python3"
    },
    "language_info": {
      "codemirror_mode": {
        "name": "ipython",
        "version": 3
      },
      "file_extension": ".py",
      "mimetype": "text/x-python",
      "name": "python",
      "nbconvert_exporter": "python",
      "pygments_lexer": "ipython3",
      "version": "3.9.6"
    },
    "vscode": {
      "interpreter": {
        "hash": "31f2aee4e71d21fbe5cf8b01ff0e069b9275f58929596ceb00d14d90e3e16cd6"
      }
    }
  },
  "nbformat": 4,
  "nbformat_minor": 0
}
