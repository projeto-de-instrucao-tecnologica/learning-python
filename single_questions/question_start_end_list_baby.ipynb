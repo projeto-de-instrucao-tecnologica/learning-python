{
  "nbformat": 4,
  "nbformat_minor": 0,
  "metadata": {
    "kernelspec": {
      "display_name": "Python 3",
      "language": "python",
      "name": "python3"
    },
    "language_info": {
      "codemirror_mode": {
        "name": "ipython",
        "version": 3
      },
      "file_extension": ".py",
      "mimetype": "text/x-python",
      "name": "python",
      "nbconvert_exporter": "python",
      "pygments_lexer": "ipython3",
      "version": "3.7.3"
    },
    "colab": {
      "name": "question_start-end-list_baby.ipynb",
      "provenance": [],
      "collapsed_sections": []
    }
  },
  "cells": [
    {
      "cell_type": "markdown",
      "metadata": {
        "id": "xNSBh8oELVeM",
        "colab_type": "text"
      },
      "source": [
        "# Learning Python"
      ]
    },
    {
      "cell_type": "markdown",
      "metadata": {
        "id": "eElGT1PwLVeN",
        "colab_type": "text"
      },
      "source": [
        "Remember to **restart the kernel** (Kernel$\\rightarrow$Restart) and then **execute all cells** (Cell$\\rightarrow$Run All) to verify that all solutions are correct. Fill with your code in the place that say `SUA SOLUÇÃO` or `YOUR ANSWER HERE` and do not change the other cells in this notebook."
      ]
    },
    {
      "cell_type": "markdown",
      "metadata": {
        "deletable": false,
        "editable": false,
        "nbgrader": {
          "checksum": "5826427af10cda68f9de1b88d338e2e0",
          "grade": false,
          "grade_id": "cell-0bd71dfsasdaojfaosjofa",
          "locked": true,
          "schema_version": 1,
          "solution": false
        },
        "id": "I0Cj4cfS3eQj",
        "colab_type": "text"
      },
      "source": [
        "---\n",
        "## Primeiro e último valor da lista\n",
        "\n",
        "Implemente uma função que retorne uma lista com com primeiro valor e o último valor da lista recebida como parâmetro:"
      ]
    },
    {
      "cell_type": "code",
      "metadata": {
        "deletable": false,
        "nbgrader": {
          "checksum": "fed44e9823471272e55b0fefff910af9",
          "grade": false,
          "grade_id": "registro",
          "locked": false,
          "schema_version": 1,
          "solution": true
        },
        "id": "_AMjN5AW3eQk",
        "colab_type": "code",
        "colab": {}
      },
      "source": [
        "def start_end_list(values):\n",
        "    \"\"\"\n",
        "    Retorna uma lista com o primeiro e último valor da lista.\n",
        "    \"\"\"\n",
        "    NotImplemented # YOUR ANSWER HERE\n",
        "    return None"
      ],
      "execution_count": 0,
      "outputs": []
    },
    {
      "cell_type": "code",
      "metadata": {
        "deletable": false,
        "editable": false,
        "nbgrader": {
          "checksum": "7d143bb0939fd45d1dca31b1e986ee08",
          "grade": true,
          "grade_id": "registro-login-1",
          "locked": true,
          "points": 1,
          "schema_version": 1,
          "solution": false
        },
        "id": "cYUjLaLd3eQn",
        "colab_type": "code",
        "colab": {}
      },
      "source": [
        "\"Testes para a função de start_end_list()\"\n",
        "\n",
        "assert start_end_list([7, 5, 21, 12, 566, 65]) == [7, 65]\n",
        "assert start_end_list([3, 65, 3, 64, 3, 643, 0]) == [3,0]\n",
        "assert start_end_list([61, 16, 34, 34, 43, 1, 6]) == [61, 6]\n",
        "assert start_end_list([852]) == [852, 852]\n",
        "print('Parabéns!')"
      ],
      "execution_count": 0,
      "outputs": []
    }
  ]
}