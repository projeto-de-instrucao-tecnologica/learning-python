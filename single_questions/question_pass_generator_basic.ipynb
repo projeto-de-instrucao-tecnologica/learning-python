{
  "nbformat": 4,
  "nbformat_minor": 0,
  "metadata": {
    "colab": {
      "name": "question_pass-generator_basic.ipynb",
      "provenance": [],
      "collapsed_sections": []
    },
    "kernelspec": {
      "name": "python3",
      "display_name": "Python 3"
    },
    "language_info": {
      "name": "python"
    }
  },
  "cells": [
    {
      "cell_type": "markdown",
      "metadata": {
        "id": "o37yO_Z__GuF"
      },
      "source": [
        "# Learning Python"
      ]
    },
    {
      "cell_type": "markdown",
      "metadata": {
        "id": "QMus5mg9_Zrp"
      },
      "source": [
        "Remember to restart the kernel (Kernel$\\rightarrow$Restart) and then execute all cells (Cell$\\rightarrow$Run All) to verify that all solutions are correct. Fill with your code in the place that say SUA SOLUÇÃO or YOUR ANSWER HERE and do not change the other cells in this notebook."
      ]
    },
    {
      "cell_type": "markdown",
      "metadata": {
        "id": "h5xAcDSP_fKL"
      },
      "source": [
        "---\n",
        "\n",
        "Escreva uma função que gera uma senha aleatória. As senhas devem ser fortes, ou seja, ter uma mistura de **letras minúsculas**, **maiúsculas**, **números** e ser maior que 8 caracteres. As senhas devem ser aleatórias, gerando uma nova senha toda vez que o usuário solicitar uma nova senha.\n",
        "\n",
        "Em seguida escreva uma função que valida a senha, retornando True, caso seja válida, ou False caso seja inválida.\n"
      ]
    },
    {
      "cell_type": "code",
      "metadata": {
        "id": "dzz3cezAHTf3"
      },
      "source": [
        "def strongPassGenerator():\n",
        "    \"\"\"\n",
        "    Retorna a string na nova senha\n",
        "    \"\"\"\n",
        "    NotImplemented # YOUR ANSWER HERE\n",
        "    return None"
      ],
      "execution_count": null,
      "outputs": []
    },
    {
      "cell_type": "code",
      "metadata": {
        "id": "T2zq1QvFQB8W"
      },
      "source": [
        "def validatePass(newPassword):\n",
        "    \"\"\"\n",
        "    Retorna true se a senha for forte e false se não atingir os critérios\n",
        "    \"\"\"\n",
        "    NotImplemented # YOUR ANSWER HERE\n",
        "    return None"
      ],
      "execution_count": null,
      "outputs": []
    },
    {
      "cell_type": "code",
      "metadata": {
        "id": "rb-q6Sm-HZhA"
      },
      "source": [
        "\"Testes para a função de strongPassGenerator() e validatePass()\"\n",
        "\n",
        "assert validatePass(strongPassGenerator()) == True\n",
        "assert validatePass(strongPassGenerator()) == True\n",
        "assert validatePass(strongPassGenerator()) == True\n",
        "assert validatePass(\"fulano123456\") == False\n",
        "assert validatePass(\"Fulan1nn\") == False\n",
        "assert validatePass(\"Fulan1nh0\") == True\n",
        "assert validatePass(\"CiclanoDemais123\") == True\n",
        "assert validatePass(\"raimundinho_Bala\") == False\n",
        "assert validatePass(\"raimundinho_B4l4\") == True\n",
        "print('Parabéns!')"
      ],
      "execution_count": null,
      "outputs": []
    }
  ]
}