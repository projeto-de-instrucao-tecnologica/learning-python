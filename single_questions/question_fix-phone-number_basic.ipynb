{
  "nbformat": 4,
  "nbformat_minor": 0,
  "metadata": {
    "kernelspec": {
      "display_name": "Python 3",
      "language": "python",
      "name": "python3"
    },
    "language_info": {
      "codemirror_mode": {
        "name": "ipython",
        "version": 3
      },
      "file_extension": ".py",
      "mimetype": "text/x-python",
      "name": "python",
      "nbconvert_exporter": "python",
      "pygments_lexer": "ipython3",
      "version": "3.7.3"
    },
    "colab": {
      "name": "question_template_basic.ipynb",
      "provenance": [],
      "collapsed_sections": []
    }
  },
  "cells": [
    {
      "cell_type": "markdown",
      "metadata": {
        "id": "xNSBh8oELVeM"
      },
      "source": [
        "# Learning Python"
      ]
    },
    {
      "cell_type": "markdown",
      "metadata": {
        "id": "eElGT1PwLVeN"
      },
      "source": [
        "Remember to **restart the kernel** (Kernel$\\rightarrow$Restart) and then **execute all cells** (Cell$\\rightarrow$Run All) to verify that all solutions are correct. Fill with your code in the place that say `SUA SOLUÇÃO` or `YOUR ANSWER HERE` and do not change the other cells in this notebook."
      ]
    },
    {
      "cell_type": "markdown",
      "metadata": {
        "deletable": false,
        "editable": false,
        "nbgrader": {
          "checksum": "5826427af10cda68f9de1b88d338e2e0",
          "grade": false,
          "grade_id": "cell-0bd71dfsasdaojfaosjofa",
          "locked": true,
          "schema_version": 1,
          "solution": false
        },
        "id": "I0Cj4cfS3eQj"
      },
      "source": [
        "---\n",
        "## Corrigir número de telefone\n",
        "\n",
        "Escreva uma função que valida e corrige um número de telefone. Faça um programa que leia um número de telefone, e corrija o número no caso deste conter somente 8 dígitos, acrescentando o '9' na frente. O usuário pode informar o número com ou sem o traço separador. Caso o usuário insira um número de telefone incorrigível com o acréscimo do dígito 9, a função deve retornar a seguinte mensagem: \"Telefone inexistente\", caso o ele insira um número de telefone válido e correto, a função deve retornar a seguinte mensagem: \"Telefone OK\"."
      ]
    },
    {
      "cell_type": "code",
      "metadata": {
        "deletable": false,
        "nbgrader": {
          "checksum": "fed44e9823471272e55b0fefff910af9",
          "grade": false,
          "grade_id": "registro",
          "locked": false,
          "schema_version": 1,
          "solution": true
        },
        "id": "_AMjN5AW3eQk"
      },
      "source": [
        "def phoneValidate(phoneNumber):\n",
        "    \"\"\"\n",
        "    Retorna o número de telefone correto\n",
        "    \"\"\"\n",
        "    NotImplemented # YOUR ANSWER HERE\n",
        "    return None"
      ],
      "execution_count": null,
      "outputs": []
    },
    {
      "cell_type": "code",
      "metadata": {
        "deletable": false,
        "editable": false,
        "nbgrader": {
          "checksum": "7d143bb0939fd45d1dca31b1e986ee08",
          "grade": true,
          "grade_id": "registro-login-1",
          "locked": true,
          "points": 1,
          "schema_version": 1,
          "solution": false
        },
        "id": "cYUjLaLd3eQn"
      },
      "source": [
        "\"Testes para a função de secondsConverter()\"\n",
        "\n",
        "assert phoneValidate('123') == 'Telefone inexistente.'\n",
        "assert phoneValidate('-8') == 'Telefone inexistente.'\n",
        "assert phoneValidate('1234567') == 'Telefone inexistente.'\n",
        "assert phoneValidate('12345678') == '912345678'\n",
        "assert phoneValidate('123456789') == 'Telefone OK'\n",
        "assert phoneValidate('996040414') == 'Telefone OK'\n",
        "assert phoneValidate('99604-0415') == 'Telefone OK'\n",
        "assert phoneValidate('8524-2423') == '98524-2423'\n",
        "assert phoneValidate('85242423') == '985242423'\n",
        "assert phoneValidate('40028922') == '940028922'\n",
        "print('Parabéns!')"
      ],
      "execution_count": null,
      "outputs": []
    }
  ]
}