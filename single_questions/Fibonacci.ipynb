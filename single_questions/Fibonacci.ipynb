{
  "nbformat": 4,
  "nbformat_minor": 0,
  "metadata": {
    "colab": {
      "name": "Fibonacci",
      "provenance": []
    },
    "kernelspec": {
      "name": "python3",
      "display_name": "Python 3"
    }
  },
  "cells": [
    {
      "cell_type": "markdown",
      "metadata": {
        "id": "L4r5k63iWLRc",
        "colab_type": "text"
      },
      "source": [
        "---\n",
        "## FIBONACCI\n",
        "\n",
        "implemente a função fibonacci(n) que recebe um numero refente a quantos numeros da sequencia fibonacci serão mostrados."
      ]
    },
    {
      "cell_type": "code",
      "metadata": {
        "id": "-OrPHHw2Xoyl",
        "colab_type": "code",
        "colab": {}
      },
      "source": [
        "def fibonacci(n):\n",
        "  NotImplemented # YOUR ANSWER HERE"
      ],
      "execution_count": 0,
      "outputs": []
    },
    {
      "cell_type": "code",
      "metadata": {
        "id": "u_cu0s0RX7i7",
        "colab_type": "code",
        "colab": {}
      },
      "source": [
        "# Teste sua implementação aqui\n",
        "# ex.:0, 1, 1, 2, 3, 5, 8, 13, 21, 34, 55, 89, 144, 233, 377, 610, 987, 1597, 2584, 4181\n",
        "n = 20"
      ],
      "execution_count": 0,
      "outputs": []
    },
    {
      "cell_type": "code",
      "metadata": {
        "id": "mZMJCIiGZ8_v",
        "colab_type": "code",
        "colab": {}
      },
      "source": [
        "\"Teste com alguns numeros para sequencia\"\n",
        "assert n(5) == [0, 1, 1, 2, 3]\n",
        "assert n(10) == [0, 1, 1, 2, 3, 5, 8, 13, 21, 34]\n",
        "assert n(20) == [0, 1, 1, 2, 3, 5, 8, 13, 21, 34, 55, 89, 144, 233, 377, 610, 987, 1597, 2584, 4181]\n",
        "print('Parabéns!')"
      ],
      "execution_count": 0,
      "outputs": []
    }
  ]
}