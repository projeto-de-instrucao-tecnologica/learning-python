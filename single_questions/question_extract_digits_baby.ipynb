{
  "nbformat": 4,
  "nbformat_minor": 0,
  "metadata": {
    "colab": {
      "name": "question_extract-digits_baby.ipynb",
      "provenance": [],
      "collapsed_sections": []
    },
    "kernelspec": {
      "name": "python3",
      "display_name": "Python 3"
    },
    "language_info": {
      "name": "python"
    }
  },
  "cells": [
    {
      "cell_type": "markdown",
      "metadata": {
        "id": "o37yO_Z__GuF"
      },
      "source": [
        "# Learning Python"
      ]
    },
    {
      "cell_type": "markdown",
      "metadata": {
        "id": "QMus5mg9_Zrp"
      },
      "source": [
        "Remember to restart the kernel (Kernel$\\rightarrow$Restart) and then execute all cells (Cell$\\rightarrow$Run All) to verify that all solutions are correct. Fill with your code in the place that say SUA SOLUÇÃO or YOUR ANSWER HERE and do not change the other cells in this notebook."
      ]
    },
    {
      "cell_type": "markdown",
      "metadata": {
        "id": "h5xAcDSP_fKL"
      },
      "source": [
        "---\n",
        "\n",
        "Escreva uma função que remove todos os caracteres de uma string exceto números inteiros."
      ]
    },
    {
      "cell_type": "code",
      "metadata": {
        "id": "dzz3cezAHTf3"
      },
      "source": [
        "def selectIntegers(phrase):\n",
        "    \"\"\"\n",
        "    Retorna uma string com somente os inteiros da frase\n",
        "    \"\"\"\n",
        "    NotImplemented # YOUR ANSWER HERE\n",
        "    return None"
      ],
      "execution_count": null,
      "outputs": []
    },
    {
      "cell_type": "code",
      "metadata": {
        "id": "rb-q6Sm-HZhA",
        "colab": {
          "base_uri": "https://localhost:8080/"
        },
        "outputId": "54aecad4-002b-4541-aad0-a9511cf9bc80"
      },
      "source": [
        "\"Testes para a função de selectIntegers()\"\n",
        "\n",
        "assert selectIntegers(\"I am 25 years and 10 months old\") == \"2510\"\n",
        "assert selectIntegers(\"Xablau 32 1234\") == \"321234\"\n",
        "assert selectIntegers(\"32 45 65 4 3 1\") == \"324565431\"\n",
        "assert selectIntegers(\"Hi - @#$ 785 pog 43\") == \"78543\"\n",
        "print('Parabéns!')"
      ],
      "execution_count": null,
      "outputs": [
        {
          "output_type": "stream",
          "name": "stdout",
          "text": [
            "Parabéns!\n"
          ]
        }
      ]
    }
  ]
}