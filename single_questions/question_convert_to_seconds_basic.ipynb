{
  "nbformat": 4,
  "nbformat_minor": 0,
  "metadata": {
    "kernelspec": {
      "display_name": "Python 3",
      "language": "python",
      "name": "python3"
    },
    "language_info": {
      "codemirror_mode": {
        "name": "ipython",
        "version": 3
      },
      "file_extension": ".py",
      "mimetype": "text/x-python",
      "name": "python",
      "nbconvert_exporter": "python",
      "pygments_lexer": "ipython3",
      "version": "3.7.3"
    },
    "colab": {
      "name": "question_template_basic.ipynb",
      "provenance": [],
      "collapsed_sections": []
    }
  },
  "cells": [
    {
      "cell_type": "markdown",
      "metadata": {
        "id": "xNSBh8oELVeM"
      },
      "source": [
        "# Learning Python"
      ]
    },
    {
      "cell_type": "markdown",
      "metadata": {
        "id": "eElGT1PwLVeN"
      },
      "source": [
        "Remember to **restart the kernel** (Kernel$\\rightarrow$Restart) and then **execute all cells** (Cell$\\rightarrow$Run All) to verify that all solutions are correct. Fill with your code in the place that say `SUA SOLUÇÃO` or `YOUR ANSWER HERE` and do not change the other cells in this notebook."
      ]
    },
    {
      "cell_type": "markdown",
      "metadata": {
        "deletable": false,
        "editable": false,
        "nbgrader": {
          "checksum": "5826427af10cda68f9de1b88d338e2e0",
          "grade": false,
          "grade_id": "cell-0bd71dfsasdaojfaosjofa",
          "locked": true,
          "schema_version": 1,
          "solution": false
        },
        "id": "I0Cj4cfS3eQj"
      },
      "source": [
        "---\n",
        "## Conversão em segundos\n",
        "\n",
        "Escreva uma função que convertará dias, horas ou minutos em segundos, ela receberá 2 parâmetros e retornará um valor inteiro. O primeiro parâmetro poderá ser de 3 tipos: \"DIA\", \"HORA\" ou \"MINUTO\", o segundo será o valor correspondente ao primeiro parâmetro. Por exemplo, deseja-se converter 3 dias em segundos, deve-se passar como primeiro parâmetros para a função o nome \"DIA\" e como segundo parâmetros o valor de dias, que nesse caso é 3. Caso um valor negativo seja introduzido, a função deve retornar 0."
      ]
    },
    {
      "cell_type": "code",
      "metadata": {
        "deletable": false,
        "nbgrader": {
          "checksum": "fed44e9823471272e55b0fefff910af9",
          "grade": false,
          "grade_id": "registro",
          "locked": false,
          "schema_version": 1,
          "solution": true
        },
        "id": "_AMjN5AW3eQk"
      },
      "source": [
        "def secondsConverter(unidadeDeTempo, valor):\n",
        "    \"\"\"\n",
        "    Retorna o valor em segundos\n",
        "    \"\"\"\n",
        "    NotImplemented # YOUR ANSWER HERE\n",
        "    return None"
      ],
      "execution_count": null,
      "outputs": []
    },
    {
      "cell_type": "code",
      "metadata": {
        "deletable": false,
        "editable": false,
        "nbgrader": {
          "checksum": "7d143bb0939fd45d1dca31b1e986ee08",
          "grade": true,
          "grade_id": "registro-login-1",
          "locked": true,
          "points": 1,
          "schema_version": 1,
          "solution": false
        },
        "id": "cYUjLaLd3eQn"
      },
      "source": [
        "\"Testes para a função de secondsConverter()\"\n",
        "\n",
        "assert secondsConverter('DIA', 3) == 259200\n",
        "assert secondsConverter('DIA', 30) == 864000\n",
        "assert secondsConverter('DIA', -9) == 0\n",
        "assert secondsConverter('HORA', 2) == 7200\n",
        "assert secondsConverter('HORA', 17) == 61200\n",
        "assert secondsConverter('HORA', -100) == 0\n",
        "assert secondsConverter('MINUTO', 1) == 60\n",
        "assert secondsConverter('MINUTO', 560) == 33600\n",
        "assert secondsConverter('MINUTO', 0) == 0\n",
        "print('Parabéns!')"
      ],
      "execution_count": null,
      "outputs": []
    }
  ]
}