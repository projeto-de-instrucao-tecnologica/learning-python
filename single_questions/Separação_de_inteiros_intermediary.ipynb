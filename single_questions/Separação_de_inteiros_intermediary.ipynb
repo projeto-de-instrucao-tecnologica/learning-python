{
  "nbformat": 4,
  "nbformat_minor": 0,
  "metadata": {
    "colab": {
      "name": "Separação_de_inteiros_intermediary.ipynb",
      "provenance": []
    },
    "kernelspec": {
      "name": "python3",
      "display_name": "Python 3"
    }
  },
  "cells": [
    {
      "cell_type": "markdown",
      "metadata": {
        "id": "pV2wH5mgIPZx",
        "colab_type": "text"
      },
      "source": [
        "---\n",
        "CALCULAR OS DIVISORES DO MES E ANO DE NASCIMENTO\n",
        "\n",
        "Nessa questão voce deve implementar uma função que receberá uma string no formato: 102000, onde o dois primeiros digitos serão o mes e os outros o ano, a função devera retornar o valor do mes e do ano no formato inteiro, ou seja, voce deverá transformar a string em um número inteiro.\n"
      ]
    },
    {
      "cell_type": "code",
      "metadata": {
        "id": "G5d1ocOSp8bJ",
        "colab_type": "code",
        "colab": {}
      },
      "source": [
        "def separacao_de_inteiros(n):\n",
        "  \"\"\"Separar um inteiro de 6 ou 5 dígitos no mes e no ano\"\"\"\n",
        "  NotImplemented #YOUR ANSWER HERE"
      ],
      "execution_count": 0,
      "outputs": []
    },
    {
      "cell_type": "markdown",
      "metadata": {
        "id": "jP6hd7JnqjFM",
        "colab_type": "text"
      },
      "source": [
        "O Mes e o Ano de 102000, será Mes=10 e Ano=2000"
      ]
    },
    {
      "cell_type": "code",
      "metadata": {
        "id": "4dK8Sib7qgur",
        "colab_type": "code",
        "colab": {}
      },
      "source": [
        "separação_de_inteiros(102000)"
      ],
      "execution_count": 0,
      "outputs": []
    },
    {
      "cell_type": "code",
      "metadata": {
        "id": "lmh1Duusq8-8",
        "colab_type": "code",
        "colab": {}
      },
      "source": [
        "\"\"\"Verifique se função foi implementada corretamente\"\"\"\n",
        "a, b = separacao_de_inteiros('112001')\n",
        "assert a == 11\n",
        "assert b == 2001\n",
        "a, b = separacao_de_inteiros('121998')\n",
        "assert a == 12\n",
        "assert b == 1998\n",
        "a, b = separacao_de_inteiros('021517')\n",
        "assert a == 02\n",
        "assert b == 1517\n",
        "print('Parabéns!')"
      ],
      "execution_count": 0,
      "outputs": []
    }
  ]
}