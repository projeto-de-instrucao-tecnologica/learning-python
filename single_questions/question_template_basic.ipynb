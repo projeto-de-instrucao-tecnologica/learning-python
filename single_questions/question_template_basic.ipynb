{
  "nbformat": 4,
  "nbformat_minor": 0,
  "metadata": {
    "kernelspec": {
      "display_name": "Python 3",
      "language": "python",
      "name": "python3"
    },
    "language_info": {
      "codemirror_mode": {
        "name": "ipython",
        "version": 3
      },
      "file_extension": ".py",
      "mimetype": "text/x-python",
      "name": "python",
      "nbconvert_exporter": "python",
      "pygments_lexer": "ipython3",
      "version": "3.7.3"
    },
    "colab": {
      "name": "question_template_basic.ipynb",
      "provenance": [],
      "collapsed_sections": []
    }
  },
  "cells": [
    {
      "cell_type": "markdown",
      "metadata": {
        "id": "xNSBh8oELVeM",
        "colab_type": "text"
      },
      "source": [
        "# Learning Python"
      ]
    },
    {
      "cell_type": "markdown",
      "metadata": {
        "id": "eElGT1PwLVeN",
        "colab_type": "text"
      },
      "source": [
        "Remember to **restart the kernel** (Kernel$\\rightarrow$Restart) and then **execute all cells** (Cell$\\rightarrow$Run All) to verify that all solutions are correct. Fill with your code in the place that say `SUA SOLUÇÃO` or `YOUR ANSWER HERE` and do not change the other cells in this notebook.\n",
        "\n",
        "This question was adapted from this: https://github.com/fabiommendes/desenvolvimento-de-software/blob/master/provas/teste-2.ipynb.\n",
        "And its use has been authorized by its repository owner."
      ]
    },
    {
      "cell_type": "markdown",
      "metadata": {
        "deletable": false,
        "editable": false,
        "nbgrader": {
          "checksum": "5826427af10cda68f9de1b88d338e2e0",
          "grade": false,
          "grade_id": "cell-0bd71dfsasdaojfaosjofa",
          "locked": true,
          "schema_version": 1,
          "solution": false
        },
        "id": "I0Cj4cfS3eQj",
        "colab_type": "text"
      },
      "source": [
        "---\n",
        "## Sistema de registro\n",
        "\n",
        "Um sistema possui um módulo de autenticação em que os usuários podem iniciar uma seção após a verificação de senha e e-mail. As informações dos usuários são armazenadas na lista USUARIOS. Você deve implementar as funções de login() e recuperar_senha() para passar nos testes abaixo."
      ]
    },
    {
      "cell_type": "code",
      "metadata": {
        "deletable": false,
        "nbgrader": {
          "checksum": "fed44e9823471272e55b0fefff910af9",
          "grade": false,
          "grade_id": "registro",
          "locked": false,
          "schema_version": 1,
          "solution": true
        },
        "id": "_AMjN5AW3eQk",
        "colab_type": "code",
        "colab": {}
      },
      "source": [
        "# Não edite a lista de usuários\n",
        "USUARIOS = [\n",
        "    {\n",
        "        'nome': 'Ada Lovelace',\n",
        "        'emails': ['ada@gmail.co.uk', 'algo-ada@hotmail.com'],\n",
        "        'nascimento': (1815, 12, 10),\n",
        "        'senha': 'algoritmo',\n",
        "    },\n",
        "    {\n",
        "        'nome': 'Alan Turing',\n",
        "        'emails': ['turing@gmail.co.uk'],\n",
        "        'nascimento': (1912, 6, 23),\n",
        "        'senha': 'enigma',\n",
        "    },\n",
        "    {\n",
        "        'nome': 'Grace Hopper',\n",
        "        'emails': ['amazing-grace@usnavy.gov'],\n",
        "        'nascimento': (1906, 12, 9),\n",
        "        'senha': 'cobol',\n",
        "    },\n",
        "    {\n",
        "        'nome': 'Donald Knuth',\n",
        "        'emails': ['knuth@gmail.com', 'art-of-programming@caltech.edu'],\n",
        "        'nascimento': (1938, 1, 10),\n",
        "        'senha': 'LaTeX',\n",
        "    },\n",
        "]\n",
        "\n",
        "def login(email, senha):\n",
        "    \"\"\"\n",
        "    Retorna um usuário caso o e-mail e senha estejam corretos. Retorna None caso contrário.\n",
        "    \"\"\"\n",
        "    NotImplemented # YOUR ANSWER HERE\n",
        "    return None\n",
        "\n",
        "\n",
        "def recuperar_senha(email, nascimento):\n",
        "    \"\"\"\n",
        "    Mostra a senha do usuário ou uma mensagem de erro caso o e-mail seja \n",
        "    inválido ou a data de nascimento não corresponda à correta.\n",
        "    \"\"\"\n",
        "    NotImplemented # YOUR ANSWER HERE\n",
        "    return 'Data de nascimento ou e-mail inválidos'"
      ],
      "execution_count": 0,
      "outputs": []
    },
    {
      "cell_type": "code",
      "metadata": {
        "deletable": false,
        "editable": false,
        "nbgrader": {
          "checksum": "7d143bb0939fd45d1dca31b1e986ee08",
          "grade": true,
          "grade_id": "registro-login-1",
          "locked": true,
          "points": 1,
          "schema_version": 1,
          "solution": false
        },
        "id": "cYUjLaLd3eQn",
        "colab_type": "code",
        "colab": {}
      },
      "source": [
        "\"Testes para a função de login()\"\n",
        "\n",
        "assert login('turing@gmail.co.uk', 'enigma') == USUARIOS[1]\n",
        "assert login('turing@gmail.co.uk', 'password-incorreto') is None\n",
        "assert login('ada@gmail.co.uk', 'algoritmo') == USUARIOS[0]\n",
        "print('Parabéns!')"
      ],
      "execution_count": 0,
      "outputs": []
    },
    {
      "cell_type": "code",
      "metadata": {
        "deletable": false,
        "editable": false,
        "nbgrader": {
          "checksum": "985f63bdecad89d6d1797b08670088dc",
          "grade": true,
          "grade_id": "registro-login-2",
          "locked": true,
          "points": 1,
          "schema_version": 1,
          "solution": false
        },
        "id": "b9vnmmBX3eQr",
        "colab_type": "code",
        "colab": {}
      },
      "source": [
        "\"Testes para a função de login() - múltiplos e-mails\"\n",
        "\n",
        "assert login('knuth@gmail.com', 'LaTeX') == USUARIOS[-1]\n",
        "assert login('art-of-programming@caltech.edu', 'LaTeX') == USUARIOS[-1]\n",
        "assert login('art-of-programming@caltech.edu', 'latex') is None\n",
        "print('Parabéns!')"
      ],
      "execution_count": 0,
      "outputs": []
    },
    {
      "cell_type": "code",
      "metadata": {
        "deletable": false,
        "editable": false,
        "nbgrader": {
          "checksum": "37ac3d374f0fcdef572fb48006f889cd",
          "grade": true,
          "grade_id": "registro-recuperar-1",
          "locked": true,
          "points": 1,
          "schema_version": 1,
          "solution": false
        },
        "id": "2Hye8E0r3eQu",
        "colab_type": "code",
        "colab": {}
      },
      "source": [
        "\"Testes para a função recuperar_senha() - casos de sucesso\"\n",
        "\n",
        "assert recuperar_senha('turing@gmail.co.uk', (1912, 6, 23)) == 'A senha é \"enigma\"'\n",
        "assert recuperar_senha('amazing-grace@usnavy.gov', (1906, 12, 9)) == 'A senha é \"cobol\"'\n",
        "print('Parabéns!')"
      ],
      "execution_count": 0,
      "outputs": []
    },
    {
      "cell_type": "code",
      "metadata": {
        "deletable": false,
        "editable": false,
        "nbgrader": {
          "checksum": "b2e71da55bc21c05ea6784583e93223f",
          "grade": true,
          "grade_id": "registro-recuperar-2",
          "locked": true,
          "points": 1,
          "schema_version": 1,
          "solution": false
        },
        "id": "1yAwHZUy3eQx",
        "colab_type": "code",
        "colab": {}
      },
      "source": [
        "\"Testes para a função recuperar_senha() - casos de erro\"\n",
        "\n",
        "assert recuperar_senha('turing@gmail.co.uk', (1901, 2, 30)) == 'Data de nascimento ou e-mail inválidos'\n",
        "assert recuperar_senha('bad@email.com.br', (1912, 6, 23)) == 'Data de nascimento ou e-mail inválidos'\n",
        "print('Parabéns!')"
      ],
      "execution_count": 0,
      "outputs": []
    }
  ]
}