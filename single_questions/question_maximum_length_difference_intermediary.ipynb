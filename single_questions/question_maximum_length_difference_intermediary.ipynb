{
  "nbformat": 4,
  "nbformat_minor": 0,
  "metadata": {
    "kernelspec": {
      "display_name": "Python 3",
      "language": "python",
      "name": "python3"
    },
    "language_info": {
      "codemirror_mode": {
        "name": "ipython",
        "version": 3
      },
      "file_extension": ".py",
      "mimetype": "text/x-python",
      "name": "python",
      "nbconvert_exporter": "python",
      "pygments_lexer": "ipython3",
      "version": "3.7.3"
    },
    "colab": {
      "provenance": [],
      "collapsed_sections": []
    }
  },
  "cells": [
    {
      "cell_type": "markdown",
      "metadata": {
        "id": "xNSBh8oELVeM"
      },
      "source": [
        "# Learning Python"
      ]
    },
    {
      "cell_type": "markdown",
      "metadata": {
        "id": "eElGT1PwLVeN"
      },
      "source": [
        "Remember to **restart the kernel** (Kernel$\\rightarrow$Restart) and then **execute all cells** (Cell$\\rightarrow$Run All) to verify that all solutions are correct. Fill with your code in the place that say `SUA SOLUÇÃO` or `YOUR ANSWER HERE` and do not change the other cells in this notebook."
      ]
    },
    {
      "cell_type": "markdown",
      "metadata": {
        "deletable": false,
        "editable": false,
        "nbgrader": {
          "checksum": "5826427af10cda68f9de1b88d338e2e0",
          "grade": false,
          "grade_id": "cell-0bd71dfsasdaojfaosjofa",
          "locked": true,
          "schema_version": 1,
          "solution": false
        },
        "id": "I0Cj4cfS3eQj"
      },
      "source": [
        "---\n",
        "## Diferença máxima de comprimento\n",
        "\n",
        "You are given two arrays a1 and a2 of strings. Each string is composed with letters from a to z. Let x be any string in the first array and y be any string in the second array.\n",
        "\n",
        "Você receberá dois arrays de Strings. Cada String é composta por várias letras de A a Z em quantidades aleatórias. Seu código deve retornar a maior diferença absoluta entre os dois arrays. Ou seja: Find max(abs(length(x) − length(y))) -> Dado que x é uma string do array 1 e y uma string do array 2.\n",
        "\n",
        "Se uma das listas for vazia o valor retornado deve ser -1."
      ]
    },
    {
      "cell_type": "code",
      "metadata": {
        "deletable": false,
        "nbgrader": {
          "checksum": "fed44e9823471272e55b0fefff910af9",
          "grade": false,
          "grade_id": "registro",
          "locked": false,
          "schema_version": 1,
          "solution": true
        },
        "id": "_AMjN5AW3eQk"
      },
      "source": [
        "def mxdiflg(a1, a2):\n",
        "    \"\"\"\n",
        "    Retorna um inteiro com o valor da maior diferença entre as strings dos dois arrays\n",
        "    \"\"\"\n",
        "    NotImplemented\n",
        "    return None"
      ],
      "execution_count": 1,
      "outputs": []
    },
    {
      "cell_type": "code",
      "metadata": {
        "deletable": false,
        "editable": false,
        "nbgrader": {
          "checksum": "7d143bb0939fd45d1dca31b1e986ee08",
          "grade": true,
          "grade_id": "registro-login-1",
          "locked": true,
          "points": 1,
          "schema_version": 1,
          "solution": false
        },
        "id": "cYUjLaLd3eQn",
        "colab": {
          "base_uri": "https://localhost:8080/"
        },
        "outputId": "bc098df0-47bc-47ee-d29c-0b51038e2f19"
      },
      "source": [
        "# Exemplo para você experimentar sua implementação :)\n",
        "a1 = [\"hoqq\", \"bbllkw\", \"oox\", \"ejjuyyy\", \"plmiis\", \"xxxzgpsssa\", \"xxwwkktt\", \"znnnnfqknaz\", \"qqquuhii\", \"dvvvwz\"]\n",
        "a2 = [\"cccooommaaqqoxii\", \"gggqaffhhh\", \"tttoowwwmmww\"]\n",
        "print(\"{}\".format(mxdiflg(a1, a2)));       # Imprime o valor da função, que pros arrays a cima deve ser 13"
      ],
      "execution_count": 2,
      "outputs": [
        {
          "output_type": "stream",
          "name": "stdout",
          "text": [
            "13\n"
          ]
        }
      ]
    },
    {
      "cell_type": "code",
      "metadata": {
        "deletable": false,
        "editable": false,
        "nbgrader": {
          "checksum": "985f63bdecad89d6d1797b08670088dc",
          "grade": true,
          "grade_id": "registro-login-2",
          "locked": true,
          "points": 1,
          "schema_version": 1,
          "solution": false
        },
        "id": "b9vnmmBX3eQr",
        "colab": {
          "base_uri": "https://localhost:8080/"
        },
        "outputId": "bec3ef68-4ff4-47df-fd1e-e98b79751746"
      },
      "source": [
        "# Testes do Sistema\n",
        "\n",
        "assert mxdiflg(\n",
        "    [\"hoqq\", \"bbllkw\", \"oox\", \"ejjuyyy\", \"plmiis\", \"xxxzgpsssa\", \"xxwwkktt\", \"znnnnfqknaz\", \"qqquuhii\", \"dvvvwz\"],\n",
        "    [\"cccooommaaqqoxii\", \"gggqaffhhh\", \"tttoowwwmmww\"]\n",
        ") == 13;\n",
        "assert mxdiflg(\n",
        "    [\"ejjjjmmtthh\", \"zxxuueeg\", \"aanlljrrrxx\", \"dqqqaaabbb\", \"oocccffuucccjjjkkkjyyyeehh\"],\n",
        "    [\"bbbaaayddqbbrrrv\"]\n",
        ") == 10\n",
        "assert mxdiflg(\n",
        "    [],\n",
        "    [\"cccooommaaqqoxii\", \"gggqaffhhh\", \"tttoowwwmmww\"]\n",
        ") == -1\n",
        "assert mxdiflg(\n",
        "    [\"a\", \"asd\", \"asdf\", \"asdfg\"],\n",
        "    [\"asdfghjkl\", \"qwertyuiopasdfgh\", \"as\"]\n",
        ") == 15\n",
        "print('Parabens');"
      ],
      "execution_count": 3,
      "outputs": [
        {
          "output_type": "stream",
          "name": "stdout",
          "text": [
            "Parabens\n"
          ]
        }
      ]
    }
  ]
}