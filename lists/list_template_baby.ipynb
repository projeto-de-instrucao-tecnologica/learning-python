{
  "nbformat": 4,
  "nbformat_minor": 0,
  "metadata": {
    "kernelspec": {
      "display_name": "Python 3",
      "language": "python",
      "name": "python3"
    },
    "language_info": {
      "codemirror_mode": {
        "name": "ipython",
        "version": 3
      },
      "file_extension": ".py",
      "mimetype": "text/x-python",
      "name": "python",
      "nbconvert_exporter": "python",
      "pygments_lexer": "ipython3",
      "version": "3.7.2"
    },
    "colab": {
      "name": "list_template_baby.ipynb",
      "provenance": [],
      "collapsed_sections": []
    }
  },
  "cells": [
    {
      "cell_type": "markdown",
      "metadata": {
        "id": "xNSBh8oELVeM",
        "colab_type": "text"
      },
      "source": [
        "# Learning Python"
      ]
    },
    {
      "cell_type": "markdown",
      "metadata": {
        "id": "eElGT1PwLVeN",
        "colab_type": "text"
      },
      "source": [
        "Remember to **restart the kernel** (Kernel$\\rightarrow$Restart) and then **execute all cells** (Cell$\\rightarrow$Run All) to verify that all solutions are correct. Fill with your code in all the places that say `SUA SOLUÇÃO` or `YOUR ANSWER HERE` and do not change the other cells in this notebook."
      ]
    },
    {
      "cell_type": "markdown",
      "metadata": {
        "deletable": false,
        "editable": false,
        "nbgrader": {
          "checksum": "5826427af10cda68f9de1b88d338e2e0",
          "grade": false,
          "grade_id": "cell-0bd71dfsasdaojfaosjofa",
          "locked": true,
          "schema_version": 1,
          "solution": false
        },
        "id": "I0Cj4cfS3eQj",
        "colab_type": "text"
      },
      "source": [
        "---\n",
        "## Média\n",
        "\n",
        "Implemente uma função que retorne o valor da média dos números informados:"
      ]
    },
    {
      "cell_type": "code",
      "metadata": {
        "deletable": false,
        "nbgrader": {
          "checksum": "fed44e9823471272e55b0fefff910af9",
          "grade": false,
          "grade_id": "registro",
          "locked": false,
          "schema_version": 1,
          "solution": true
        },
        "id": "_AMjN5AW3eQk",
        "colab_type": "code",
        "colab": {}
      },
      "source": [
        "def average(values):\n",
        "    \"\"\"\n",
        "    Retorna o valor da média dos números informados.\n",
        "    \"\"\"\n",
        "    NotImplemented # YOUR ANSWER HERE\n",
        "    return None"
      ],
      "execution_count": 0,
      "outputs": []
    },
    {
      "cell_type": "code",
      "metadata": {
        "deletable": false,
        "editable": false,
        "nbgrader": {
          "checksum": "7d143bb0939fd45d1dca31b1e986ee08",
          "grade": true,
          "grade_id": "registro-login-1",
          "locked": true,
          "points": 1,
          "schema_version": 1,
          "solution": false
        },
        "id": "cYUjLaLd3eQn",
        "colab_type": "code",
        "colab": {}
      },
      "source": [
        "\"Testes para a função de average()\"\n",
        "\n",
        "assert average([7, 5, 21, 12, 566, 65]) == 112.67\n",
        "assert average([3, 65, 3, 64, 3, 643, 0]) == 111.57\n",
        "assert average([61, 16, 34, 34, 43, 1, 6]) == 27.86\n",
        "assert average([852]) == 852\n",
        "print('Parabéns!')"
      ],
      "execution_count": 0,
      "outputs": []
    },
    {
      "cell_type": "markdown",
      "metadata": {
        "deletable": false,
        "editable": false,
        "nbgrader": {
          "checksum": "5826427af10cda68f9de1b88d338e2e0",
          "grade": false,
          "grade_id": "cell-0bd71dfsasdaojfaosjofa",
          "locked": true,
          "schema_version": 1,
          "solution": false
        },
        "colab_type": "text",
        "id": "MTLd8jzIxZKy"
      },
      "source": [
        "---\n",
        "## Odd Or Even\n",
        "\n",
        "Implemente uma função que retorne uma String informando se o número inserido é par ou ímpar:\n",
        "\n",
        "\"Esse número é Par\" se for par;\n",
        "\n",
        "\"Esse número é impar\" se for ímpar;"
      ]
    },
    {
      "cell_type": "code",
      "metadata": {
        "deletable": false,
        "nbgrader": {
          "checksum": "fed44e9823471272e55b0fefff910af9",
          "grade": false,
          "grade_id": "registro",
          "locked": false,
          "schema_version": 1,
          "solution": true
        },
        "colab_type": "code",
        "id": "fL4tzizkxZK0",
        "colab": {}
      },
      "source": [
        "def odd_or_even(number):\n",
        "    \"\"\"\n",
        "    Retorna a string da frase correspondente a paridade do número informado.\n",
        "    \"\"\"\n",
        "    NotImplemented # YOUR ANSWER HERE\n",
        "    return None"
      ],
      "execution_count": 0,
      "outputs": []
    },
    {
      "cell_type": "code",
      "metadata": {
        "deletable": false,
        "editable": false,
        "nbgrader": {
          "checksum": "7d143bb0939fd45d1dca31b1e986ee08",
          "grade": true,
          "grade_id": "registro-login-1",
          "locked": true,
          "points": 1,
          "schema_version": 1,
          "solution": false
        },
        "colab_type": "code",
        "id": "ppcdb6uKxZK4",
        "colab": {}
      },
      "source": [
        "\"Testes para a função de odd_or_even()\"\n",
        "\n",
        "assert odd_or_even(1) == \"Esse número é impar\"\n",
        "assert odd_or_even(55) == \"Esse número é impar\"\n",
        "assert odd_or_even(92) == \"Esse número é Par\"\n",
        "assert odd_or_even(852) == \"Esse número é Par\"\n",
        "print('Parabéns!')"
      ],
      "execution_count": 0,
      "outputs": []
    },
    {
      "cell_type": "markdown",
      "metadata": {
        "deletable": false,
        "editable": false,
        "nbgrader": {
          "checksum": "5826427af10cda68f9de1b88d338e2e0",
          "grade": false,
          "grade_id": "cell-0bd71dfsasdaojfaosjofa",
          "locked": true,
          "schema_version": 1,
          "solution": false
        },
        "colab_type": "text",
        "id": "2vyzExZJjQd0"
      },
      "source": [
        "---\n",
        "## Concatenação básica \n",
        "\n",
        "Implemente uma função que retorne a concatenação das duas strings informadas:"
      ]
    },
    {
      "cell_type": "code",
      "metadata": {
        "deletable": false,
        "nbgrader": {
          "checksum": "fed44e9823471272e55b0fefff910af9",
          "grade": false,
          "grade_id": "registro",
          "locked": false,
          "schema_version": 1,
          "solution": true
        },
        "colab_type": "code",
        "id": "iFVy0gbDjQd_",
        "colab": {}
      },
      "source": [
        "def concat(string_1, string_2):\n",
        "    \"\"\"\n",
        "    Retorna uma string concatenada.\n",
        "    \"\"\"\n",
        "    NotImplemented # YOUR ANSWER HERE\n",
        "    return None"
      ],
      "execution_count": 0,
      "outputs": []
    },
    {
      "cell_type": "code",
      "metadata": {
        "deletable": false,
        "editable": false,
        "nbgrader": {
          "checksum": "7d143bb0939fd45d1dca31b1e986ee08",
          "grade": true,
          "grade_id": "registro-login-1",
          "locked": true,
          "points": 1,
          "schema_version": 1,
          "solution": false
        },
        "colab_type": "code",
        "id": "bPu90S7JjQeD",
        "colab": {}
      },
      "source": [
        "\"Testes para a função de concat()\"\n",
        "\n",
        "assert concat('Shado', 'Frog') == 'ShadoFrog'\n",
        "assert concat('O', ' Jogo') == 'O Jogo'\n",
        "assert concat('Shado', 'Gostoso Demais') == 'ShadoGostoso Demais'\n",
        "print('Perdi!')"
      ],
      "execution_count": 0,
      "outputs": []
    }
  ]
}