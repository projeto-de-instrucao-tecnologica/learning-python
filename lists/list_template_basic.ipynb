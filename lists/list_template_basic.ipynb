{
  "nbformat": 4,
  "nbformat_minor": 0,
  "metadata": {
    "kernelspec": {
      "display_name": "Python 3",
      "language": "python",
      "name": "python3"
    },
    "language_info": {
      "codemirror_mode": {
        "name": "ipython",
        "version": 3
      },
      "file_extension": ".py",
      "mimetype": "text/x-python",
      "name": "python",
      "nbconvert_exporter": "python",
      "pygments_lexer": "ipython3",
      "version": "3.7.2"
    },
    "colab": {
      "name": "list_template_basic.ipynb",
      "provenance": [],
      "collapsed_sections": []
    }
  },
  "cells": [
    {
      "cell_type": "markdown",
      "metadata": {
        "id": "xNSBh8oELVeM",
        "colab_type": "text"
      },
      "source": [
        "# Learning Python"
      ]
    },
    {
      "cell_type": "markdown",
      "metadata": {
        "id": "eElGT1PwLVeN",
        "colab_type": "text"
      },
      "source": [
        "Remember to **restart the kernel** (Kernel$\\rightarrow$Restart) and then **execute all cells** (Cell$\\rightarrow$Run All) to verify that all solutions are correct. Fill with your code in all the places that say `SUA SOLUÇÃO` or `YOUR ANSWER HERE` and do not change the other cells in this notebook.\n",
        "\n",
        "This list was adapted from this: https://github.com/fabiommendes/desenvolvimento-de-software/blob/master/provas/teste-1.ipynb.\n",
        "And its use has been authorized by its repository owner."
      ]
    },
    {
      "cell_type": "markdown",
      "metadata": {
        "deletable": false,
        "editable": false,
        "nbgrader": {
          "checksum": "ac4530694350451e12f90a0ef221b9a7",
          "grade": false,
          "grade_id": "cell-0bd71df71daefa41",
          "locked": true,
          "schema_version": 1,
          "solution": false
        },
        "id": "kj7RUa0nLVeV",
        "colab_type": "text"
      },
      "source": [
        "---\n",
        "## Soma de quadrados\n",
        "\n",
        "Crie uma função que receba um valor inteiro n e retorne a soma dos quadrados de 1 até n. Se n for zero ou negativo, a função deve retornar 0. "
      ]
    },
    {
      "cell_type": "code",
      "metadata": {
        "deletable": false,
        "nbgrader": {
          "checksum": "f335f6dc73a8d9cb297425d686ec4e68",
          "grade": false,
          "grade_id": "squares",
          "locked": false,
          "schema_version": 1,
          "solution": true
        },
        "id": "HeKg0uu7LVeW",
        "colab_type": "code",
        "colab": {}
      },
      "source": [
        "def soma_dos_quadrados(n):\n",
        "    \"\"\"Soma os valores 1 + 2*2 + 3*3 + ... + n*n.\"\"\"\n",
        "    NotImplemented # YOUR ASWER HERE"
      ],
      "execution_count": 0,
      "outputs": []
    },
    {
      "cell_type": "markdown",
      "metadata": {
        "id": "TJhz5w3ULVeZ",
        "colab_type": "text"
      },
      "source": [
        "A soma dos números de 1 até 10 é 385. Verifique o resultado."
      ]
    },
    {
      "cell_type": "code",
      "metadata": {
        "id": "gIkAIvM8LVeb",
        "colab_type": "code",
        "colab": {}
      },
      "source": [
        "soma_dos_quadrados(10)"
      ],
      "execution_count": 0,
      "outputs": []
    },
    {
      "cell_type": "code",
      "metadata": {
        "deletable": false,
        "editable": false,
        "nbgrader": {
          "checksum": "effcd6ced901e68a3c4d3e2ffb740070",
          "grade": true,
          "grade_id": "squares-test",
          "locked": false,
          "points": 1,
          "schema_version": 1,
          "solution": false
        },
        "id": "ECnbXcr5LVee",
        "colab_type": "code",
        "colab": {}
      },
      "source": [
        "\"\"\"Verifica se a função foi implementada corretamente.\"\"\"\n",
        "assert soma_dos_quadrados(10) == 385\n",
        "assert soma_dos_quadrados(100) == 338350\n",
        "assert soma_dos_quadrados(-42) == 0\n",
        "print('Parabéns!')"
      ],
      "execution_count": 0,
      "outputs": []
    },
    {
      "cell_type": "markdown",
      "metadata": {
        "deletable": false,
        "editable": false,
        "nbgrader": {
          "checksum": "86e180ae8ec8f0342a966857f2928ee5",
          "grade": false,
          "grade_id": "cell-8e30370dc01493bc",
          "locked": true,
          "schema_version": 1,
          "solution": false
        },
        "id": "FKHeyr-eLVei",
        "colab_type": "text"
      },
      "source": [
        "---\n",
        "## Fizzbuzz\n",
        "\n",
        "A função fizzbuzz recebe um número inteiro positivo n e itera sobre a sequência. A cada passo, faz uma das\n",
        "4 opções:\n",
        "* Se o número for divisível por 3, imprime \"fizz\"\n",
        "* Se o número for divisível por 5, imprime \"buzz\"\n",
        "* Se o número for divisível por ambos, imprime \"fizzbuzz\"\n",
        "* Se não for divisível por nenhum dos dois, imprime o próprio número.\n"
      ]
    },
    {
      "cell_type": "code",
      "metadata": {
        "deletable": false,
        "nbgrader": {
          "checksum": "98425c079c2b4316d1c4da588abee863",
          "grade": false,
          "grade_id": "fizzbuzz",
          "locked": false,
          "schema_version": 1,
          "solution": true
        },
        "id": "9vWp6T7yLVej",
        "colab_type": "code",
        "colab": {}
      },
      "source": [
        "def fizzbuzz(n):\n",
        "    \"\"\"Imprime a sequência fizzbuzz\"\"\"\n",
        "    NotImplemented # YOUR ANSWER HERE"
      ],
      "execution_count": 0,
      "outputs": []
    },
    {
      "cell_type": "markdown",
      "metadata": {
        "deletable": false,
        "editable": false,
        "nbgrader": {
          "checksum": "b2ed168de83df0588a33c5d2a440449b",
          "grade": false,
          "grade_id": "cell-edaf088fdacb34c3",
          "locked": true,
          "schema_version": 1,
          "solution": false
        },
        "id": "JdJjOpHYLVem",
        "colab_type": "text"
      },
      "source": [
        "A sequência fizzbuzz de 1 até 10 é dada por\n",
        "```\n",
        "1, 2, fizz, 4, buzz, fizz, 7, 8, fizz, buzz, 11, fizz, 13, 14, fizzbuzz, 16, 17, fizz, 19, buzz\n",
        "```\n",
        "Você deve imprimir cada valor em uma linha separada.\n",
        "Verifique sua implementação"
      ]
    },
    {
      "cell_type": "code",
      "metadata": {
        "id": "do6DLTzZLVen",
        "colab_type": "code",
        "colab": {}
      },
      "source": [
        "fizzbuzz(20)"
      ],
      "execution_count": 0,
      "outputs": []
    },
    {
      "cell_type": "code",
      "metadata": {
        "deletable": false,
        "editable": false,
        "nbgrader": {
          "checksum": "b6eb82066edce78180f948f3e31d9806",
          "grade": true,
          "grade_id": "fizzbuzz-short",
          "locked": false,
          "points": 0.5,
          "schema_version": 1,
          "solution": false
        },
        "id": "NIIf8qoGLVep",
        "colab_type": "code",
        "colab": {}
      },
      "source": [
        "\"\"\"Verifica o fizzbuzz para valores pequenos\"\"\"\n",
        "import io\n",
        "from contextlib import redirect_stdout\n",
        "\n",
        "\n",
        "with redirect_stdout(io.StringIO()) as fd:\n",
        "    fizzbuzz(10)\n",
        "    assert  fd.getvalue() == \\\n",
        "\"\"\"1\n",
        "2\n",
        "fizz\n",
        "4\n",
        "buzz\n",
        "fizz\n",
        "7\n",
        "8\n",
        "fizz\n",
        "buzz\n",
        "\"\"\"\n",
        "print('Parabéns!')"
      ],
      "execution_count": 0,
      "outputs": []
    },
    {
      "cell_type": "code",
      "metadata": {
        "deletable": false,
        "editable": false,
        "nbgrader": {
          "checksum": "ebf749fade4a1b7f110d14dfaeec45a6",
          "grade": true,
          "grade_id": "fizzbuzz-large",
          "locked": false,
          "points": 0.5,
          "schema_version": 1,
          "solution": false
        },
        "id": "rGNCartYLVes",
        "colab_type": "code",
        "colab": {}
      },
      "source": [
        "\"\"\"Fizzbuzz para valores grandes\"\"\"\n",
        "with redirect_stdout(io.StringIO()) as fd:\n",
        "    fizzbuzz(20)\n",
        "    assert  fd.getvalue() == \\\n",
        "\"\"\"1\n",
        "2\n",
        "fizz\n",
        "4\n",
        "buzz\n",
        "fizz\n",
        "7\n",
        "8\n",
        "fizz\n",
        "buzz\n",
        "11\n",
        "fizz\n",
        "13\n",
        "14\n",
        "fizzbuzz\n",
        "16\n",
        "17\n",
        "fizz\n",
        "19\n",
        "buzz\n",
        "\"\"\"\n",
        "print('Parabéns!')"
      ],
      "execution_count": 0,
      "outputs": []
    },
    {
      "cell_type": "markdown",
      "metadata": {
        "deletable": false,
        "editable": false,
        "nbgrader": {
          "checksum": "64d85390b688886af09b63082a47e23f",
          "grade": false,
          "grade_id": "cell-16f576ef379a3f25",
          "locked": true,
          "schema_version": 1,
          "solution": false
        },
        "id": "1imyrur0LVeu",
        "colab_type": "text"
      },
      "source": [
        "---\n",
        "## Lista fizzbuzz\n",
        "\n",
        "Resolva o problema do fizzbuzz, mas desta vez retorne uma lista de strings com os valores de cada iteração ao invés de imprimí-los na tela."
      ]
    },
    {
      "cell_type": "code",
      "metadata": {
        "deletable": false,
        "nbgrader": {
          "checksum": "27137e97b652135cd6a3b7cebe0d8d43",
          "grade": false,
          "grade_id": "lista-fizzbuzz",
          "locked": false,
          "schema_version": 1,
          "solution": true
        },
        "id": "8_GetJXOLVev",
        "colab_type": "code",
        "colab": {}
      },
      "source": [
        "def lista_fizzbuzz(n):\n",
        "    \"\"\"Retorna uma lista com a sequência fizzbuzz\"\"\"\n",
        "    lst = []\n",
        "    NotImplemented # YOUR ANSWER HERE"
      ],
      "execution_count": 0,
      "outputs": []
    },
    {
      "cell_type": "markdown",
      "metadata": {
        "deletable": false,
        "editable": false,
        "nbgrader": {
          "checksum": "1ac800f9d1849d384312cadb2f565bdd",
          "grade": false,
          "grade_id": "cell-44b8f9dca9288874",
          "locked": true,
          "schema_version": 1,
          "solution": false
        },
        "id": "6UxMIN9zLVex",
        "colab_type": "text"
      },
      "source": [
        "Teste sua implementação aqui. \n",
        "O resultado para `lista_fizzbuzz(20)` é\n",
        "\n",
        "```python\n",
        "['1', '2', 'fizz', '4', 'buzz', 'fizz', '7', '8', 'fizz', 'buzz', \n",
        " '11', 'fizz', '13', '14', 'fizzbuzz', '16', '17', 'fizz', '19', 'buzz']\n",
        "```"
      ]
    },
    {
      "cell_type": "code",
      "metadata": {
        "id": "079ZtCEkLVey",
        "colab_type": "code",
        "colab": {}
      },
      "source": [
        "lista_fizzbuzz(20)"
      ],
      "execution_count": 0,
      "outputs": []
    },
    {
      "cell_type": "code",
      "metadata": {
        "deletable": false,
        "editable": false,
        "nbgrader": {
          "checksum": "a79f4cb04795f2d7dbb618ddabd32a2e",
          "grade": true,
          "grade_id": "lista-fizzbuzz-test",
          "locked": true,
          "points": 1,
          "schema_version": 1,
          "solution": false
        },
        "id": "845Q9V6FLVe0",
        "colab_type": "code",
        "colab": {}
      },
      "source": [
        "\"Testes para listas de fizzbuzzes\"\n",
        "\n",
        "assert lista_fizzbuzz(20) == ['1', '2', 'fizz', '4', 'buzz', 'fizz', '7', '8', 'fizz', 'buzz', \n",
        " '11', 'fizz', '13', '14', 'fizzbuzz', '16', '17', 'fizz', '19', 'buzz']\n",
        "print('Parabéns!')"
      ],
      "execution_count": 0,
      "outputs": []
    },
    {
      "cell_type": "markdown",
      "metadata": {
        "deletable": false,
        "editable": false,
        "nbgrader": {
          "checksum": "0baaae07ed4d6db3fd0220c35151cc7e",
          "grade": false,
          "grade_id": "cell-c47de2todo79acc02925",
          "locked": true,
          "schema_version": 1,
          "solution": false
        },
        "id": "tT93WvpvLVe2",
        "colab_type": "text"
      },
      "source": [
        "---\n",
        "## Todos iguais\n",
        "Crie uma função que verifique se todos os elementos de uma lista são iguais.\n",
        "\n",
        "Uma lista vazia deve retornar True."
      ]
    },
    {
      "cell_type": "code",
      "metadata": {
        "deletable": false,
        "nbgrader": {
          "checksum": "45495a5c3bf36d26cbd480dcb4884c31",
          "grade": false,
          "grade_id": "todos-iguais",
          "locked": false,
          "schema_version": 1,
          "solution": true
        },
        "id": "w248kS4hLVe3",
        "colab_type": "code",
        "colab": {}
      },
      "source": [
        "def todos_iguais(lst: list) -> bool:\n",
        "    NotImplemented # YOUR ANSWER HERE"
      ],
      "execution_count": 0,
      "outputs": []
    },
    {
      "cell_type": "code",
      "metadata": {
        "id": "HFLiIixZLVe5",
        "colab_type": "code",
        "colab": {}
      },
      "source": [
        "# Verifique sua implementação\n",
        "todos_iguais([1, 1, 2, 1, 1])"
      ],
      "execution_count": 0,
      "outputs": []
    },
    {
      "cell_type": "code",
      "metadata": {
        "deletable": false,
        "editable": false,
        "nbgrader": {
          "checksum": "b5fa0b491d69fffd5be2c2a432d627f4",
          "grade": true,
          "grade_id": "todos-iguais-test",
          "locked": true,
          "points": 1,
          "schema_version": 1,
          "solution": false
        },
        "id": "q-0fbyNRLVe7",
        "colab_type": "code",
        "colab": {}
      },
      "source": [
        "\"Verifica implementação de todos_iguais()\"\n",
        "assert todos_iguais([1, 1, 1]) == True\n",
        "assert todos_iguais([1, 2, 1]) == False\n",
        "assert todos_iguais(['a', 'a', 'a']) == True\n",
        "assert todos_iguais([]) == True\n",
        "assert todos_iguais([1]) == True\n",
        "print('Parabéns!')"
      ],
      "execution_count": 0,
      "outputs": []
    },
    {
      "cell_type": "markdown",
      "metadata": {
        "deletable": false,
        "editable": false,
        "nbgrader": {
          "checksum": "cd2d74ed4afde4791843f2adcd4a0227",
          "grade": false,
          "grade_id": "cell-97791f42ffcfed1c",
          "locked": true,
          "schema_version": 1,
          "solution": false
        },
        "id": "In4NhpdKLVe9",
        "colab_type": "text"
      },
      "source": [
        "---\n",
        "## Primos\n",
        "\n",
        "Um número é primo se for divisível apenas por 1 e por ele mesmo (obs, zero e um não são primos!). Crie uma função que recebe um número e retorne uma lista com todos números menores ou iguais ao número dado.\n",
        "\n",
        "Lembre-se que para verificar se um número n é primo, basta analisar se o mesmo é divisível por algum número na lista dos primos menores que n."
      ]
    },
    {
      "cell_type": "code",
      "metadata": {
        "deletable": false,
        "nbgrader": {
          "checksum": "efe3fc99108d2a568ac1ff077908d0ed",
          "grade": false,
          "grade_id": "primos",
          "locked": false,
          "schema_version": 1,
          "solution": true
        },
        "id": "fll-JM-jLVe9",
        "colab_type": "code",
        "colab": {}
      },
      "source": [
        "def primos(n: int) -> list:\n",
        "    NotImplemented # YOUR ANSWER HERE"
      ],
      "execution_count": 0,
      "outputs": []
    },
    {
      "cell_type": "code",
      "metadata": {
        "id": "7WCEBX9_LVe_",
        "colab_type": "code",
        "colab": {}
      },
      "source": [
        "# Teste sua implementação aqui.\n",
        "# ex.: primos(50) => [2, 3, 5, 7, 11, 13, 17, 19, 23, 29, 31, 37, 41, 43, 47]\n",
        "primos(50)"
      ],
      "execution_count": 0,
      "outputs": []
    },
    {
      "cell_type": "code",
      "metadata": {
        "deletable": false,
        "editable": false,
        "nbgrader": {
          "checksum": "14cfc3cc74d202d966d64d54f49dc96b",
          "grade": true,
          "grade_id": "primos-test",
          "locked": true,
          "points": 1.5,
          "schema_version": 1,
          "solution": false
        },
        "id": "100PdXZzLVfC",
        "colab_type": "code",
        "colab": {}
      },
      "source": [
        "\"Testes com alguns primos\"\n",
        "assert primos(13) == [2, 3, 5, 7, 11, 13]\n",
        "assert primos(50) == [2, 3, 5, 7, 11, 13, 17, 19, 23, 29, 31, 37, 41, 43, 47]\n",
        "assert primos(1)  == []\n",
        "print('Parabéns!')"
      ],
      "execution_count": 0,
      "outputs": []
    },
    {
      "cell_type": "markdown",
      "metadata": {
        "deletable": false,
        "editable": false,
        "nbgrader": {
          "checksum": "43b0a7f40b84711d248d6b37c3febe1e",
          "grade": false,
          "grade_id": "cell-b7e27e38a6eccfb5",
          "locked": true,
          "schema_version": 1,
          "solution": false
        },
        "id": "6oPBW67cLVfH",
        "colab_type": "text"
      },
      "source": [
        "---\n",
        "## Uma questão de classe\n",
        "\n",
        "A classe Pessoa mostrada abaixo possui os campos de nome e sobrenome.\n",
        "\n",
        "Implemente a função filho(nome, p1, p2) que produz uma nova pessoa com o sobrenome calculado a partir dos sobrenomes dos pais. No caso, devemos juntar o último sobrenome de p2 com o último sobrenome de p1 (nesta ordem)."
      ]
    },
    {
      "cell_type": "code",
      "metadata": {
        "deletable": false,
        "nbgrader": {
          "checksum": "1e30dd42985238c0dddc5376d70c7473",
          "grade": false,
          "grade_id": "classe-pessoa",
          "locked": false,
          "schema_version": 1,
          "solution": true
        },
        "id": "wg0eODESLVfI",
        "colab_type": "code",
        "colab": {}
      },
      "source": [
        "class Pessoa:\n",
        "    def __init__(self, nome, sobrenome):\n",
        "        self.nome = nome\n",
        "        self.sobrenome = sobrenome\n",
        "        \n",
        "    # Ensina o Python como imprimir pessoas. Não modifique.\n",
        "    def __repr__(self):\n",
        "        return \"Pessoa(%r, %r)\" % (self.nome, self.sobrenome)\n",
        "    \n",
        "    # Ensina o Python como testar se duas pessoas são iguais. Não modifique.\n",
        "    def __eq__(self, other):\n",
        "        return self.nome == other.nome and self.sobrenome == other.sobrenome\n",
        "    \n",
        "    def ultimo_sobrenome(self):\n",
        "        \"\"\"\n",
        "        Retorna a última palavra do sobrenome da pessoa.\n",
        "        \n",
        "        Útil para analizar sobrenomes compostos.\n",
        "        \"\"\"\n",
        "        NotImplemented # YOUR ANSWER HERE\n",
        "    \n",
        "def filho(nome: str, p1: Pessoa, p2: Pessoa) -> Pessoa:\n",
        "    NotImplemented # YOUR ANSWER HERE"
      ],
      "execution_count": 0,
      "outputs": []
    },
    {
      "cell_type": "code",
      "metadata": {
        "id": "yUnhSMevLVfM",
        "colab_type": "code",
        "colab": {}
      },
      "source": [
        "# Exemplo para você experimentar sua implementação :)\n",
        "# O filho, neste caso deve ser Pessoa('Sasha', 'Szafir Meneguel')\n",
        "xuxa = Pessoa(\"Xuxa\", \"Meneghel\")\n",
        "pai = Pessoa(\"Luciano\", \"Szafir\")\n",
        "filho(\"Sasha\", xuxa, pai)"
      ],
      "execution_count": 0,
      "outputs": []
    },
    {
      "cell_type": "code",
      "metadata": {
        "deletable": false,
        "editable": false,
        "nbgrader": {
          "checksum": "d4faec3ac0cbf3d9f32747949b4f1b9b",
          "grade": true,
          "grade_id": "classe-pessoa-test",
          "locked": true,
          "points": 0,
          "schema_version": 1,
          "solution": false
        },
        "id": "H4Edn5w3LVfO",
        "colab_type": "code",
        "colab": {}
      },
      "source": [
        "\"Testes de 'Uma questão de classe'\"\n",
        "xuxa = Pessoa(\"Xuxa\", \"Meneghel\")\n",
        "pai = Pessoa(\"Luciano\", \"Szafir\")\n",
        "pele = Pessoa(\"Edson\", \"Arantes do Nascimento\")\n",
        "\n",
        "assert filho(\"Sasha\", pai, xuxa) == Pessoa('Sasha', 'Meneghel Szafir')\n",
        "assert filho(\"Sasha\", xuxa, pai) == Pessoa('Sasha', 'Szafir Meneghel')\n",
        "assert filho(\"Edinho\", pele, xuxa) == Pessoa('Edinho', 'Meneghel Nascimento')\n",
        "print('Parabens')"
      ],
      "execution_count": 0,
      "outputs": []
    }
  ]
}